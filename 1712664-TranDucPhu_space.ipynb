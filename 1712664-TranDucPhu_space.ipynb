{
 "cells": [
  {
   "cell_type": "markdown",
   "metadata": {},
   "source": [
    "# Description \n",
    "- Nội dung: dữ liệu ghi lại thông tin các vụ phóng tên lửa từ năm 1957\n",
    "- Nguồn: https://www.kaggle.com/agirlcoding/all-space-missions-from-1957\n",
    "- Cách thức dữ liệu được lấy: dữ liệu được scrap từ trang https://nextspaceflight.com/launches/past/?page=1 bằng BeautifulSoup từ ngày 7/8/2020 trở về trước\n",
    "- Usage Information: License: Unknow, Visibility: Public\n",
    "- Dataset owner: https://www.kaggle.com/agirlcoding"
   ]
  },
  {
   "cell_type": "markdown",
   "metadata": {},
   "source": [
    "# Import libraries"
   ]
  },
  {
   "cell_type": "code",
   "execution_count": 76,
   "metadata": {
    "ExecuteTime": {
     "end_time": "2020-08-28T09:49:56.814752Z",
     "start_time": "2020-08-28T09:49:56.810793Z"
    }
   },
   "outputs": [],
   "source": [
    "import pandas as pd\n",
    "import matplotlib.pyplot as plt\n",
    "import seaborn as sns\n",
    "import numpy as np\n",
    "import plotly.express as px\n",
    "from pandas.plotting import autocorrelation_plot\n",
    "from statsmodels.tsa.arima_model import ARIMA\n",
    "from statsmodels.graphics.tsaplots import plot_acf, plot_pacf"
   ]
  },
  {
   "cell_type": "markdown",
   "metadata": {},
   "source": [
    "# Import file"
   ]
  },
  {
   "cell_type": "code",
   "execution_count": 77,
   "metadata": {
    "ExecuteTime": {
     "end_time": "2020-08-28T09:49:56.843707Z",
     "start_time": "2020-08-28T09:49:56.821734Z"
    }
   },
   "outputs": [
    {
     "data": {
      "text/html": [
       "<div>\n",
       "<style scoped>\n",
       "    .dataframe tbody tr th:only-of-type {\n",
       "        vertical-align: middle;\n",
       "    }\n",
       "\n",
       "    .dataframe tbody tr th {\n",
       "        vertical-align: top;\n",
       "    }\n",
       "\n",
       "    .dataframe thead th {\n",
       "        text-align: right;\n",
       "    }\n",
       "</style>\n",
       "<table border=\"1\" class=\"dataframe\">\n",
       "  <thead>\n",
       "    <tr style=\"text-align: right;\">\n",
       "      <th></th>\n",
       "      <th>Unnamed: 0</th>\n",
       "      <th>Unnamed: 0.1</th>\n",
       "      <th>Company Name</th>\n",
       "      <th>Location</th>\n",
       "      <th>Datum</th>\n",
       "      <th>Detail</th>\n",
       "      <th>Status Rocket</th>\n",
       "      <th>Rocket</th>\n",
       "      <th>Status Mission</th>\n",
       "    </tr>\n",
       "  </thead>\n",
       "  <tbody>\n",
       "    <tr>\n",
       "      <th>0</th>\n",
       "      <td>0</td>\n",
       "      <td>0</td>\n",
       "      <td>SpaceX</td>\n",
       "      <td>LC-39A, Kennedy Space Center, Florida, USA</td>\n",
       "      <td>Fri Aug 07, 2020 05:12 UTC</td>\n",
       "      <td>Falcon 9 Block 5 | Starlink V1 L9 &amp; BlackSky</td>\n",
       "      <td>StatusActive</td>\n",
       "      <td>50.0</td>\n",
       "      <td>Success</td>\n",
       "    </tr>\n",
       "    <tr>\n",
       "      <th>1</th>\n",
       "      <td>1</td>\n",
       "      <td>1</td>\n",
       "      <td>CASC</td>\n",
       "      <td>Site 9401 (SLS-2), Jiuquan Satellite Launch Ce...</td>\n",
       "      <td>Thu Aug 06, 2020 04:01 UTC</td>\n",
       "      <td>Long March 2D | Gaofen-9 04 &amp; Q-SAT</td>\n",
       "      <td>StatusActive</td>\n",
       "      <td>29.75</td>\n",
       "      <td>Success</td>\n",
       "    </tr>\n",
       "    <tr>\n",
       "      <th>2</th>\n",
       "      <td>2</td>\n",
       "      <td>2</td>\n",
       "      <td>SpaceX</td>\n",
       "      <td>Pad A, Boca Chica, Texas, USA</td>\n",
       "      <td>Tue Aug 04, 2020 23:57 UTC</td>\n",
       "      <td>Starship Prototype | 150 Meter Hop</td>\n",
       "      <td>StatusActive</td>\n",
       "      <td>NaN</td>\n",
       "      <td>Success</td>\n",
       "    </tr>\n",
       "    <tr>\n",
       "      <th>3</th>\n",
       "      <td>3</td>\n",
       "      <td>3</td>\n",
       "      <td>Roscosmos</td>\n",
       "      <td>Site 200/39, Baikonur Cosmodrome, Kazakhstan</td>\n",
       "      <td>Thu Jul 30, 2020 21:25 UTC</td>\n",
       "      <td>Proton-M/Briz-M | Ekspress-80 &amp; Ekspress-103</td>\n",
       "      <td>StatusActive</td>\n",
       "      <td>65.0</td>\n",
       "      <td>Success</td>\n",
       "    </tr>\n",
       "    <tr>\n",
       "      <th>4</th>\n",
       "      <td>4</td>\n",
       "      <td>4</td>\n",
       "      <td>ULA</td>\n",
       "      <td>SLC-41, Cape Canaveral AFS, Florida, USA</td>\n",
       "      <td>Thu Jul 30, 2020 11:50 UTC</td>\n",
       "      <td>Atlas V 541 | Perseverance</td>\n",
       "      <td>StatusActive</td>\n",
       "      <td>145.0</td>\n",
       "      <td>Success</td>\n",
       "    </tr>\n",
       "  </tbody>\n",
       "</table>\n",
       "</div>"
      ],
      "text/plain": [
       "   Unnamed: 0  Unnamed: 0.1 Company Name  \\\n",
       "0           0             0       SpaceX   \n",
       "1           1             1         CASC   \n",
       "2           2             2       SpaceX   \n",
       "3           3             3    Roscosmos   \n",
       "4           4             4          ULA   \n",
       "\n",
       "                                            Location  \\\n",
       "0         LC-39A, Kennedy Space Center, Florida, USA   \n",
       "1  Site 9401 (SLS-2), Jiuquan Satellite Launch Ce...   \n",
       "2                      Pad A, Boca Chica, Texas, USA   \n",
       "3       Site 200/39, Baikonur Cosmodrome, Kazakhstan   \n",
       "4           SLC-41, Cape Canaveral AFS, Florida, USA   \n",
       "\n",
       "                        Datum                                        Detail  \\\n",
       "0  Fri Aug 07, 2020 05:12 UTC  Falcon 9 Block 5 | Starlink V1 L9 & BlackSky   \n",
       "1  Thu Aug 06, 2020 04:01 UTC           Long March 2D | Gaofen-9 04 & Q-SAT   \n",
       "2  Tue Aug 04, 2020 23:57 UTC            Starship Prototype | 150 Meter Hop   \n",
       "3  Thu Jul 30, 2020 21:25 UTC  Proton-M/Briz-M | Ekspress-80 & Ekspress-103   \n",
       "4  Thu Jul 30, 2020 11:50 UTC                    Atlas V 541 | Perseverance   \n",
       "\n",
       "  Status Rocket  Rocket Status Mission  \n",
       "0  StatusActive   50.0         Success  \n",
       "1  StatusActive  29.75         Success  \n",
       "2  StatusActive     NaN        Success  \n",
       "3  StatusActive   65.0         Success  \n",
       "4  StatusActive  145.0         Success  "
      ]
     },
     "execution_count": 77,
     "metadata": {},
     "output_type": "execute_result"
    }
   ],
   "source": [
    "spaceLaunch_df = pd.read_csv(\"Space_Corrected.csv\")\n",
    "spaceLaunch_df.head()"
   ]
  },
  {
   "cell_type": "markdown",
   "metadata": {
    "ExecuteTime": {
     "end_time": "2020-08-25T04:22:46.586729Z",
     "start_time": "2020-08-25T04:22:46.579955Z"
    }
   },
   "source": [
    "# Explore"
   ]
  },
  {
   "cell_type": "markdown",
   "metadata": {},
   "source": [
    "## Kích thước của file"
   ]
  },
  {
   "cell_type": "code",
   "execution_count": 78,
   "metadata": {
    "ExecuteTime": {
     "end_time": "2020-08-28T09:49:56.848660Z",
     "start_time": "2020-08-28T09:49:56.844671Z"
    }
   },
   "outputs": [
    {
     "data": {
      "text/plain": [
       "(4324, 9)"
      ]
     },
     "execution_count": 78,
     "metadata": {},
     "output_type": "execute_result"
    }
   ],
   "source": [
    "spaceLaunch_df.shape"
   ]
  },
  {
   "cell_type": "markdown",
   "metadata": {},
   "source": [
    "## Các cột của dữ liệu"
   ]
  },
  {
   "cell_type": "code",
   "execution_count": 79,
   "metadata": {
    "ExecuteTime": {
     "end_time": "2020-08-28T09:49:56.857637Z",
     "start_time": "2020-08-28T09:49:56.850655Z"
    }
   },
   "outputs": [
    {
     "data": {
      "text/plain": [
       "Index(['Unnamed: 0', 'Unnamed: 0.1', 'Company Name', 'Location', 'Datum',\n",
       "       'Detail', 'Status Rocket', ' Rocket', 'Status Mission'],\n",
       "      dtype='object')"
      ]
     },
     "execution_count": 79,
     "metadata": {},
     "output_type": "execute_result"
    }
   ],
   "source": [
    "spaceLaunch_df.columns"
   ]
  },
  {
   "cell_type": "markdown",
   "metadata": {},
   "source": [
    "## Kiểu dữ liệu của các cột"
   ]
  },
  {
   "cell_type": "code",
   "execution_count": 80,
   "metadata": {
    "ExecuteTime": {
     "end_time": "2020-08-28T09:49:56.868607Z",
     "start_time": "2020-08-28T09:49:56.858634Z"
    }
   },
   "outputs": [
    {
     "data": {
      "text/plain": [
       "Unnamed: 0         int64\n",
       "Unnamed: 0.1       int64\n",
       "Company Name      object\n",
       "Location          object\n",
       "Datum             object\n",
       "Detail            object\n",
       "Status Rocket     object\n",
       " Rocket           object\n",
       "Status Mission    object\n",
       "dtype: object"
      ]
     },
     "execution_count": 80,
     "metadata": {},
     "output_type": "execute_result"
    }
   ],
   "source": [
    "spaceLaunch_df.dtypes"
   ]
  },
  {
   "cell_type": "markdown",
   "metadata": {},
   "source": [
    "## Tỉ lệ giá trị rỗng trong từng cột"
   ]
  },
  {
   "cell_type": "code",
   "execution_count": 81,
   "metadata": {
    "ExecuteTime": {
     "end_time": "2020-08-28T09:49:56.880575Z",
     "start_time": "2020-08-28T09:49:56.872597Z"
    }
   },
   "outputs": [
    {
     "name": "stdout",
     "output_type": "stream",
     "text": [
      "Unnamed: 0 0.0%\n",
      "Unnamed: 0.1 0.0%\n",
      "Company Name 0.0%\n",
      "Location 0.0%\n",
      "Datum 0.0%\n",
      "Detail 0.0%\n",
      "Status Rocket 0.0%\n",
      " Rocket 77.71%\n",
      "Status Mission 0.0%\n"
     ]
    }
   ],
   "source": [
    "for column in spaceLaunch_df.columns:\n",
    "    print(column, str(round( 100* spaceLaunch_df[column].isnull().sum() / len(spaceLaunch_df[column]),2)) + '%')"
   ]
  },
  {
   "cell_type": "markdown",
   "metadata": {},
   "source": [
    "## Ý nghĩa các cột dữ liệu\n",
    "- Unnamed: 0,Unnamed: 0.1: (int) trường index\n",
    "- Company Name: (str) tên của công ty thực hiện vụ phóng\n",
    "- Location: (object) địa điểm xảy ra vụ phóng\n",
    "- Datum: (object) Thời điểm vụ phóng xả ra\n",
    "- Detail: (object) Tên của tên lửa / tên của vệ tinh được phóng bằng tên lửa\n",
    "- Status Rocket: (object) Tình trạng của tên lửa (đang còn sử dụng/không còn sử dụng)\n",
    "- Rocket: (object) Chi phí cho tên lửa\n",
    "- Status Mission: (object) Kết quả của vụ phóng\n",
    "    "
   ]
  },
  {
   "cell_type": "code",
   "execution_count": 82,
   "metadata": {
    "ExecuteTime": {
     "end_time": "2020-08-28T09:49:56.889550Z",
     "start_time": "2020-08-28T09:49:56.885562Z"
    }
   },
   "outputs": [],
   "source": [
    "# Xác định các kiểu dữ liệu có thể có của object\n",
    "def open_object_dtype(s):\n",
    "    dtypes = set()\n",
    "    \n",
    "    # YOUR CODE HERE\n",
    "    for i in range(len(s)):\n",
    "        dtypes.add(type(s.iloc[i]))\n",
    "    \n",
    "    return dtypes"
   ]
  },
  {
   "cell_type": "code",
   "execution_count": 83,
   "metadata": {
    "ExecuteTime": {
     "end_time": "2020-08-28T09:49:57.077081Z",
     "start_time": "2020-08-28T09:49:56.896533Z"
    }
   },
   "outputs": [
    {
     "name": "stdout",
     "output_type": "stream",
     "text": [
      "columns name: Company Name\n",
      "unique values: 56\n",
      "data type: {<class 'str'>}\n",
      "\n",
      "columns name: Location\n",
      "unique values: 137\n",
      "data type: {<class 'str'>}\n",
      "\n",
      "columns name: Datum\n",
      "unique values: 4319\n",
      "data type: {<class 'str'>}\n",
      "\n",
      "columns name: Detail\n",
      "unique values: 4278\n",
      "data type: {<class 'str'>}\n",
      "\n",
      "columns name: Status Rocket\n",
      "unique values: 2\n",
      "data type: {<class 'str'>}\n",
      "\n",
      "columns name:  Rocket\n",
      "unique values: 57\n",
      "data type: {<class 'float'>, <class 'str'>}\n",
      "\n",
      "columns name: Status Mission\n",
      "unique values: 4\n",
      "data type: {<class 'str'>}\n",
      "\n"
     ]
    }
   ],
   "source": [
    "columns = [\"Company Name\",\"Location\",\"Datum\",\"Detail\",\"Status Rocket\",\" Rocket\",\"Status Mission\"]\n",
    "for column in columns:\n",
    "    print(\"columns name: \" + column)\n",
    "    print(\"unique values: \" + str(len(spaceLaunch_df[column].unique())))\n",
    "    print(\"data type: \" + str(open_object_dtype(spaceLaunch_df[column])))\n",
    "    print()"
   ]
  },
  {
   "cell_type": "markdown",
   "metadata": {},
   "source": [
    "# Data Preprocessing"
   ]
  },
  {
   "cell_type": "markdown",
   "metadata": {},
   "source": [
    "## Loại bỏ"
   ]
  },
  {
   "cell_type": "code",
   "execution_count": 84,
   "metadata": {
    "ExecuteTime": {
     "end_time": "2020-08-28T09:49:57.081039Z",
     "start_time": "2020-08-28T09:49:57.078046Z"
    }
   },
   "outputs": [],
   "source": [
    "#Bỏ đi 2 cột Unnamed: 0 và Unnamed: 0.1 vì không cần thiết\n",
    "del spaceLaunch_df[\"Unnamed: 0\"]\n",
    "del spaceLaunch_df[\"Unnamed: 0.1\"]"
   ]
  },
  {
   "cell_type": "markdown",
   "metadata": {},
   "source": [
    "## Thêm cột"
   ]
  },
  {
   "cell_type": "code",
   "execution_count": 85,
   "metadata": {
    "ExecuteTime": {
     "end_time": "2020-08-28T09:49:58.189662Z",
     "start_time": "2020-08-28T09:49:57.082035Z"
    }
   },
   "outputs": [],
   "source": [
    "#Cột Datum là kiểu dữ liệu object cần được chuyển sang dạng datetime\n",
    "spaceLaunch_df[\"Datum\"] = pd.to_datetime(spaceLaunch_df[\"Datum\"])\n",
    "\n",
    "#Tạo thêm cột month, year\n",
    "spaceLaunch_df[\"year\"] = spaceLaunch_df[\"Datum\"].apply(lambda datetime: datetime.year)\n",
    "spaceLaunch_df[\"month\"] = spaceLaunch_df[\"Datum\"].apply(lambda datetime: datetime.month)\n",
    "\n",
    "#Tạo thêm cột country\n",
    "spaceLaunch_df[\"country\"] = spaceLaunch_df[\"Location\"].apply(lambda country: country.split(\", \")[-1])"
   ]
  },
  {
   "cell_type": "markdown",
   "metadata": {},
   "source": [
    "## Điều chỉnh cột"
   ]
  },
  {
   "cell_type": "code",
   "execution_count": 86,
   "metadata": {
    "ExecuteTime": {
     "end_time": "2020-08-28T09:49:59.469667Z",
     "start_time": "2020-08-28T09:49:58.193609Z"
    }
   },
   "outputs": [
    {
     "name": "stderr",
     "output_type": "stream",
     "text": [
      "C:\\Users\\Admin\\anaconda3\\lib\\site-packages\\ipykernel_launcher.py:7: SettingWithCopyWarning:\n",
      "\n",
      "\n",
      "A value is trying to be set on a copy of a slice from a DataFrame\n",
      "\n",
      "See the caveats in the documentation: https://pandas.pydata.org/pandas-docs/stable/user_guide/indexing.html#returning-a-view-versus-a-copy\n",
      "\n",
      "C:\\Users\\Admin\\anaconda3\\lib\\site-packages\\ipykernel_launcher.py:8: SettingWithCopyWarning:\n",
      "\n",
      "\n",
      "A value is trying to be set on a copy of a slice from a DataFrame\n",
      "\n",
      "See the caveats in the documentation: https://pandas.pydata.org/pandas-docs/stable/user_guide/indexing.html#returning-a-view-versus-a-copy\n",
      "\n"
     ]
    }
   ],
   "source": [
    "#Tên cột Rocket bị dư một dấu cách phía trước, không để ý có thể gây lỗi nên cần được bỏ dấu cách đi\n",
    "spaceLaunch_df = spaceLaunch_df.rename(columns= {\" Rocket\" : \"Rocket\"})\n",
    "\n",
    "#Convert cột rocket sang kiểu Float và lấp những giá trị null bằng 0\n",
    "spaceLaunch_df[\"Rocket\"] = spaceLaunch_df[\"Rocket\"].astype(str)\n",
    "for i in range(len(spaceLaunch_df[\"Rocket\"])):\n",
    "    spaceLaunch_df[\"Rocket\"][i] = spaceLaunch_df[\"Rocket\"][i].strip(\", \")\n",
    "    spaceLaunch_df[\"Rocket\"][i] = spaceLaunch_df[\"Rocket\"][i].replace(\",\",\"\")\n",
    "spaceLaunch_df[\"Rocket\"] = spaceLaunch_df[\"Rocket\"].astype(float)\n",
    "spaceLaunch_df[\"Rocket\"] = spaceLaunch_df[\"Rocket\"].fillna(0)"
   ]
  },
  {
   "cell_type": "code",
   "execution_count": 87,
   "metadata": {
    "ExecuteTime": {
     "end_time": "2020-08-28T09:49:59.884591Z",
     "start_time": "2020-08-28T09:49:59.471660Z"
    }
   },
   "outputs": [
    {
     "name": "stderr",
     "output_type": "stream",
     "text": [
      "C:\\Users\\Admin\\anaconda3\\lib\\site-packages\\pandas\\core\\indexing.py:670: SettingWithCopyWarning:\n",
      "\n",
      "\n",
      "A value is trying to be set on a copy of a slice from a DataFrame\n",
      "\n",
      "See the caveats in the documentation: https://pandas.pydata.org/pandas-docs/stable/user_guide/indexing.html#returning-a-view-versus-a-copy\n",
      "\n"
     ]
    }
   ],
   "source": [
    "#Các nhiệm vụ phóng được thực hiện tại Kazakhstan đều được thực hiện bởi các công ty Nga\n",
    "#nên ta cần đổi giá trị của cột country mà là Kazakhstan thành Russia mà trước năm 1991 là Liên Xô (USSR)\n",
    "for i in range(len(spaceLaunch_df[\"country\"])):\n",
    "    if (spaceLaunch_df[\"country\"].loc[i] == \"Kazakhstan\"):\n",
    "        if(spaceLaunch_df[\"year\"].loc[i] < 1991):\n",
    "            spaceLaunch_df[\"country\"].loc[i] = \"USSR\"\n",
    "        else:\n",
    "            spaceLaunch_df[\"country\"].loc[i] = \"Russia\"\n",
    "    # Một vài đại điểm phóng tại Nga trước năm 1991 vẫn lưu là Nga nên ta đổi thành USSR\n",
    "    if (spaceLaunch_df[\"country\"].loc[i] == \"Russia\" and spaceLaunch_df[\"year\"].loc[i] < 1991):\n",
    "        spaceLaunch_df[\"country\"].loc[i] = \"USSR\"\n",
    "\n",
    "#Tương tự với một số địa điểm khác trên thế giới\n",
    "spaceLaunch_df.loc[spaceLaunch_df['country'] == 'New Mexico', 'country'] = 'USA'\n",
    "spaceLaunch_df.loc[spaceLaunch_df['country'] == \"Yellow Sea\", 'country'] = \"China\"\n",
    "spaceLaunch_df.loc[spaceLaunch_df['country'] == \"Shahrud Missile Test Site\", 'country'] = \"Iran\"\n",
    "spaceLaunch_df.loc[spaceLaunch_df['country'] == \"Pacific Missile Range Facility\", 'country'] = \"USA\"\n",
    "spaceLaunch_df.loc[spaceLaunch_df['country'] == \"Barents Sea\", 'country'] = 'Russia'\n",
    "spaceLaunch_df.loc[spaceLaunch_df['country'] == \"Gran Canaria\", 'country'] = 'USA'"
   ]
  },
  {
   "cell_type": "markdown",
   "metadata": {},
   "source": [
    "## Dữ liệu sau tiền xử lý"
   ]
  },
  {
   "cell_type": "code",
   "execution_count": 88,
   "metadata": {
    "ExecuteTime": {
     "end_time": "2020-08-28T09:49:59.895573Z",
     "start_time": "2020-08-28T09:49:59.885600Z"
    }
   },
   "outputs": [
    {
     "data": {
      "text/html": [
       "<div>\n",
       "<style scoped>\n",
       "    .dataframe tbody tr th:only-of-type {\n",
       "        vertical-align: middle;\n",
       "    }\n",
       "\n",
       "    .dataframe tbody tr th {\n",
       "        vertical-align: top;\n",
       "    }\n",
       "\n",
       "    .dataframe thead th {\n",
       "        text-align: right;\n",
       "    }\n",
       "</style>\n",
       "<table border=\"1\" class=\"dataframe\">\n",
       "  <thead>\n",
       "    <tr style=\"text-align: right;\">\n",
       "      <th></th>\n",
       "      <th>Company Name</th>\n",
       "      <th>Location</th>\n",
       "      <th>Datum</th>\n",
       "      <th>Detail</th>\n",
       "      <th>Status Rocket</th>\n",
       "      <th>Rocket</th>\n",
       "      <th>Status Mission</th>\n",
       "      <th>year</th>\n",
       "      <th>month</th>\n",
       "      <th>country</th>\n",
       "    </tr>\n",
       "  </thead>\n",
       "  <tbody>\n",
       "    <tr>\n",
       "      <th>0</th>\n",
       "      <td>SpaceX</td>\n",
       "      <td>LC-39A, Kennedy Space Center, Florida, USA</td>\n",
       "      <td>2020-08-07 05:12:00+00:00</td>\n",
       "      <td>Falcon 9 Block 5 | Starlink V1 L9 &amp; BlackSky</td>\n",
       "      <td>StatusActive</td>\n",
       "      <td>50.00</td>\n",
       "      <td>Success</td>\n",
       "      <td>2020</td>\n",
       "      <td>8</td>\n",
       "      <td>USA</td>\n",
       "    </tr>\n",
       "    <tr>\n",
       "      <th>1</th>\n",
       "      <td>CASC</td>\n",
       "      <td>Site 9401 (SLS-2), Jiuquan Satellite Launch Ce...</td>\n",
       "      <td>2020-08-06 04:01:00+00:00</td>\n",
       "      <td>Long March 2D | Gaofen-9 04 &amp; Q-SAT</td>\n",
       "      <td>StatusActive</td>\n",
       "      <td>29.75</td>\n",
       "      <td>Success</td>\n",
       "      <td>2020</td>\n",
       "      <td>8</td>\n",
       "      <td>China</td>\n",
       "    </tr>\n",
       "    <tr>\n",
       "      <th>2</th>\n",
       "      <td>SpaceX</td>\n",
       "      <td>Pad A, Boca Chica, Texas, USA</td>\n",
       "      <td>2020-08-04 23:57:00+00:00</td>\n",
       "      <td>Starship Prototype | 150 Meter Hop</td>\n",
       "      <td>StatusActive</td>\n",
       "      <td>0.00</td>\n",
       "      <td>Success</td>\n",
       "      <td>2020</td>\n",
       "      <td>8</td>\n",
       "      <td>USA</td>\n",
       "    </tr>\n",
       "    <tr>\n",
       "      <th>3</th>\n",
       "      <td>Roscosmos</td>\n",
       "      <td>Site 200/39, Baikonur Cosmodrome, Kazakhstan</td>\n",
       "      <td>2020-07-30 21:25:00+00:00</td>\n",
       "      <td>Proton-M/Briz-M | Ekspress-80 &amp; Ekspress-103</td>\n",
       "      <td>StatusActive</td>\n",
       "      <td>65.00</td>\n",
       "      <td>Success</td>\n",
       "      <td>2020</td>\n",
       "      <td>7</td>\n",
       "      <td>Russia</td>\n",
       "    </tr>\n",
       "    <tr>\n",
       "      <th>4</th>\n",
       "      <td>ULA</td>\n",
       "      <td>SLC-41, Cape Canaveral AFS, Florida, USA</td>\n",
       "      <td>2020-07-30 11:50:00+00:00</td>\n",
       "      <td>Atlas V 541 | Perseverance</td>\n",
       "      <td>StatusActive</td>\n",
       "      <td>145.00</td>\n",
       "      <td>Success</td>\n",
       "      <td>2020</td>\n",
       "      <td>7</td>\n",
       "      <td>USA</td>\n",
       "    </tr>\n",
       "  </tbody>\n",
       "</table>\n",
       "</div>"
      ],
      "text/plain": [
       "  Company Name                                           Location  \\\n",
       "0       SpaceX         LC-39A, Kennedy Space Center, Florida, USA   \n",
       "1         CASC  Site 9401 (SLS-2), Jiuquan Satellite Launch Ce...   \n",
       "2       SpaceX                      Pad A, Boca Chica, Texas, USA   \n",
       "3    Roscosmos       Site 200/39, Baikonur Cosmodrome, Kazakhstan   \n",
       "4          ULA           SLC-41, Cape Canaveral AFS, Florida, USA   \n",
       "\n",
       "                       Datum                                        Detail  \\\n",
       "0  2020-08-07 05:12:00+00:00  Falcon 9 Block 5 | Starlink V1 L9 & BlackSky   \n",
       "1  2020-08-06 04:01:00+00:00           Long March 2D | Gaofen-9 04 & Q-SAT   \n",
       "2  2020-08-04 23:57:00+00:00            Starship Prototype | 150 Meter Hop   \n",
       "3  2020-07-30 21:25:00+00:00  Proton-M/Briz-M | Ekspress-80 & Ekspress-103   \n",
       "4  2020-07-30 11:50:00+00:00                    Atlas V 541 | Perseverance   \n",
       "\n",
       "  Status Rocket  Rocket Status Mission  year  month country  \n",
       "0  StatusActive   50.00        Success  2020      8     USA  \n",
       "1  StatusActive   29.75        Success  2020      8   China  \n",
       "2  StatusActive    0.00        Success  2020      8     USA  \n",
       "3  StatusActive   65.00        Success  2020      7  Russia  \n",
       "4  StatusActive  145.00        Success  2020      7     USA  "
      ]
     },
     "execution_count": 88,
     "metadata": {},
     "output_type": "execute_result"
    }
   ],
   "source": [
    "spaceLaunch_df.head(5)"
   ]
  },
  {
   "cell_type": "code",
   "execution_count": 89,
   "metadata": {
    "ExecuteTime": {
     "end_time": "2020-08-28T09:49:59.907540Z",
     "start_time": "2020-08-28T09:49:59.897567Z"
    }
   },
   "outputs": [
    {
     "data": {
      "text/plain": [
       "Company Name       object\n",
       "Location           object\n",
       "Datum              object\n",
       "Detail             object\n",
       "Status Rocket      object\n",
       "Rocket            float64\n",
       "Status Mission     object\n",
       "year                int64\n",
       "month               int64\n",
       "country            object\n",
       "dtype: object"
      ]
     },
     "execution_count": 89,
     "metadata": {},
     "output_type": "execute_result"
    }
   ],
   "source": [
    "spaceLaunch_df.dtypes"
   ]
  },
  {
   "cell_type": "markdown",
   "metadata": {},
   "source": [
    "# Analysis"
   ]
  },
  {
   "cell_type": "markdown",
   "metadata": {},
   "source": [
    "## Question 1: Diễn biến hiện tại của cuộc lên vũ trụ như thế nào?\n",
    "Ý nghĩa: Trả lời cho câu hỏi sẽ giúp ta có cái nhìn tổng quan hơn về cuộc đua lên vũ trụ của các nước trên thế giới, đây là một chủ đề khá thú vị vì Việt Nam chúng ta cũng đã thực hiện phóng 2 vệ tinh mang tên Vinasat-1 và Vinasat-2 năm 2008 và 2012, chúng ta nên biết vị trí của chúng ta đang ở đâu để có thể cố gắng hơn nữa để đưa Việt Nam sánh ngang cường quốc năm châu"
   ]
  },
  {
   "cell_type": "markdown",
   "metadata": {},
   "source": [
    "### Ta tìm xem thử 2 vệ tinh Vinasat-1 và Vinasat-2 của Việt Nam"
   ]
  },
  {
   "cell_type": "code",
   "execution_count": 90,
   "metadata": {
    "ExecuteTime": {
     "end_time": "2020-08-28T09:50:00.415562Z",
     "start_time": "2020-08-28T09:49:59.909536Z"
    },
    "scrolled": true
   },
   "outputs": [
    {
     "name": "stderr",
     "output_type": "stream",
     "text": [
      "C:\\Users\\Admin\\anaconda3\\lib\\site-packages\\ipykernel_launcher.py:5: SettingWithCopyWarning:\n",
      "\n",
      "\n",
      "A value is trying to be set on a copy of a slice from a DataFrame\n",
      "\n",
      "See the caveats in the documentation: https://pandas.pydata.org/pandas-docs/stable/user_guide/indexing.html#returning-a-view-versus-a-copy\n",
      "\n"
     ]
    },
    {
     "name": "stdout",
     "output_type": "stream",
     "text": [
      "Company Name                                            Arianespace\n",
      "Location          ELA-3, Guiana Space Centre, French Guiana, France\n",
      "Datum                                     2012-05-15 22:13:00+00:00\n",
      "Detail                           Ariane 5 ECA | JCSAT-13, Vinasat-2\n",
      "Status Rocket                                          StatusActive\n",
      "Rocket                                                          200\n",
      "Status Mission                                              Success\n",
      "year                                                           2012\n",
      "month                                                             5\n",
      "country                                                      France\n",
      "Name: 649, dtype: object\n",
      "Company Name                                            Arianespace\n",
      "Location          ELA-3, Guiana Space Centre, French Guiana, France\n",
      "Datum                                     2008-04-18 22:17:00+00:00\n",
      "Detail                       Ariane 5 ECA | Star One C2 & Vinasat-1\n",
      "Status Rocket                                          StatusActive\n",
      "Rocket                                                          200\n",
      "Status Mission                                              Success\n",
      "year                                                           2008\n",
      "month                                                             4\n",
      "country                                                      France\n",
      "Name: 824, dtype: object\n"
     ]
    }
   ],
   "source": [
    "#Ta tìm xem thử 2 vệ tinh Vinasat-1 và Vinasat-2 của Việt Nam\n",
    "for i in range(spaceLaunch_df.shape[0]):\n",
    "    if spaceLaunch_df.iloc[i][\"Detail\"].find(\"Vinasat\") != -1:\n",
    "        #2 vệ tinh này do Pháp phóng nhưng vẫn là tài sản của Việt Nam nên mình sẽ đổi tên trường country thành Việt Nam\n",
    "        spaceLaunch_df.iloc[i][\"country\"] = \"Viet Nam\"\n",
    "        print(spaceLaunch_df.iloc[i])"
   ]
  },
  {
   "cell_type": "markdown",
   "metadata": {},
   "source": [
    "### Tỉ lệ tên lửa đang còn hoạt động của các quốc gia trên thế giới"
   ]
  },
  {
   "cell_type": "code",
   "execution_count": 91,
   "metadata": {
    "ExecuteTime": {
     "end_time": "2020-08-28T09:50:00.523963Z",
     "start_time": "2020-08-28T09:50:00.417343Z"
    }
   },
   "outputs": [
    {
     "data": {
      "text/plain": [
       "Text(0.5, 0, 'Number of active rocket')"
      ]
     },
     "execution_count": 91,
     "metadata": {},
     "output_type": "execute_result"
    },
    {
     "data": {
      "image/png": "[encoded data removed]",
      "text/plain": [
       "<Figure size 432x288 with 1 Axes>"
      ]
     },
     "metadata": {
      "needs_background": "light"
     },
     "output_type": "display_data"
    }
   ],
   "source": [
    "#Tỉ lệ tên lửa đang còn hoạt động của các quốc gia trên thế giới\n",
    "active_df = spaceLaunch_df[spaceLaunch_df[\"Status Rocket\"] == \"StatusActive\"]\n",
    "active_country_df = active_df.groupby(\"country\")[\"Status Rocket\"].count().sort_values().reset_index()\n",
    "plt.barh(active_country_df[\"country\"],active_country_df[\"Status Rocket\"])\n",
    "plt.xlabel(\"Number of active rocket\")"
   ]
  },
  {
   "cell_type": "markdown",
   "metadata": {},
   "source": [
    "Với số lượng là 2 vệ tinh thì có lẽ chúng ta đang còn thua xa các cường quốc khác"
   ]
  },
  {
   "cell_type": "markdown",
   "metadata": {},
   "source": [
    "### Biểu đồ các nước dẫn đầu trong cuộc đua lên vũ trụ qua từng năm"
   ]
  },
  {
   "cell_type": "code",
   "execution_count": 92,
   "metadata": {
    "ExecuteTime": {
     "end_time": "2020-08-28T09:50:00.596286Z",
     "start_time": "2020-08-28T09:50:00.524963Z"
    }
   },
   "outputs": [
    {
     "data": {
      "application/vnd.plotly.v1+json": {
       "config": {
        "plotlyServerURL": "https://plot.ly"
       },
       "data": [
        {
         "alignmentgroup": "True",
         "hovertemplate": "country=USSR<br>year=%{x}<br>Status Mission=%{y}<extra></extra>",
         "legendgroup": "USSR",
         "marker": {
          "color": "#636efa"
         },
         "name": "USSR",
         "offsetgroup": "USSR",
         "orientation": "v",
         "showlegend": true,
         "textposition": "auto",
         "type": "bar",
         "x": [
          1957,
          1963,
          1964,
          1965,
          1966,
          1967,
          1968,
          1969,
          1970,
          1971,
          1972,
          1973,
          1974,
          1975,
          1976,
          1977,
          1978,
          1979,
          1980,
          1981,
          1982,
          1983,
          1984,
          1985,
          1986,
          1987,
          1988,
          1989,
          1990
         ],
         "xaxis": "x",
         "y": [
          2,
          24,
          36,
          53,
          51,
          75,
          80,
          83,
          88,
          93,
          79,
          84,
          83,
          89,
          95,
          97,
          71,
          36,
          40,
          51,
          53,
          46,
          42,
          51,
          49,
          42,
          36,
          26,
          37
         ],
         "yaxis": "y"
        },
        {
         "alignmentgroup": "True",
         "hovertemplate": "country=USA<br>year=%{x}<br>Status Mission=%{y}<extra></extra>",
         "legendgroup": "USA",
         "marker": {
          "color": "#EF553B"
         },
         "name": "USA",
         "offsetgroup": "USA",
         "orientation": "v",
         "showlegend": true,
         "textposition": "auto",
         "type": "bar",
         "x": [
          1958,
          1959,
          1960,
          1961,
          1962,
          1992,
          1994,
          1995,
          1996,
          1997,
          1998,
          1999,
          2000,
          2001,
          2002,
          2003,
          2004,
          2005,
          2006,
          2007,
          2008,
          2009,
          2010,
          2011,
          2012,
          2013,
          2014,
          2015,
          2016,
          2017
         ],
         "xaxis": "x",
         "y": [
          23,
          16,
          30,
          43,
          60,
          27,
          26,
          30,
          33,
          38,
          36,
          31,
          28,
          22,
          17,
          23,
          16,
          12,
          18,
          19,
          15,
          25,
          15,
          18,
          13,
          19,
          23,
          22,
          27,
          30
         ],
         "yaxis": "y"
        },
        {
         "alignmentgroup": "True",
         "hovertemplate": "country=Russia<br>year=%{x}<br>Status Mission=%{y}<extra></extra>",
         "legendgroup": "Russia",
         "marker": {
          "color": "#00cc96"
         },
         "name": "Russia",
         "offsetgroup": "Russia",
         "orientation": "v",
         "showlegend": true,
         "textposition": "auto",
         "type": "bar",
         "x": [
          1991,
          1993
         ],
         "xaxis": "x",
         "y": [
          29,
          27
         ],
         "yaxis": "y"
        },
        {
         "alignmentgroup": "True",
         "hovertemplate": "country=China<br>year=%{x}<br>Status Mission=%{y}<extra></extra>",
         "legendgroup": "China",
         "marker": {
          "color": "#ab63fa"
         },
         "name": "China",
         "offsetgroup": "China",
         "orientation": "v",
         "showlegend": true,
         "textposition": "auto",
         "type": "bar",
         "x": [
          2018,
          2019,
          2020
         ],
         "xaxis": "x",
         "y": [
          39,
          34,
          22
         ],
         "yaxis": "y"
        }
       ],
       "layout": {
        "barmode": "relative",
        "legend": {
         "title": {
          "text": "country"
         },
         "tracegroupgap": 0
        },
        "template": {
         "data": {
          "bar": [
           {
            "error_x": {
             "color": "#2a3f5f"
            },
            "error_y": {
             "color": "#2a3f5f"
            },
            "marker": {
             "line": {
              "color": "#E5ECF6",
              "width": 0.5
             }
            },
            "type": "bar"
           }
          ],
          "barpolar": [
           {
            "marker": {
             "line": {
              "color": "#E5ECF6",
              "width": 0.5
             }
            },
            "type": "barpolar"
           }
          ],
          "carpet": [
           {
            "aaxis": {
             "endlinecolor": "#2a3f5f",
             "gridcolor": "white",
             "linecolor": "white",
             "minorgridcolor": "white",
             "startlinecolor": "#2a3f5f"
            },
            "baxis": {
             "endlinecolor": "#2a3f5f",
             "gridcolor": "white",
             "linecolor": "white",
             "minorgridcolor": "white",
             "startlinecolor": "#2a3f5f"
            },
            "type": "carpet"
           }
          ],
          "choropleth": [
           {
            "colorbar": {
             "outlinewidth": 0,
             "ticks": ""
            },
            "type": "choropleth"
           }
          ],
          "contour": [
           {
            "colorbar": {
             "outlinewidth": 0,
             "ticks": ""
            },
            "colorscale": [
             [
              0,
              "#0d0887"
             ],
             [
              0.1111111111111111,
              "#46039f"
             ],
             [
              0.2222222222222222,
              "#7201a8"
             ],
             [
              0.3333333333333333,
              "#9c179e"
             ],
             [
              0.4444444444444444,
              "#bd3786"
             ],
             [
              0.5555555555555556,
              "#d8576b"
             ],
             [
              0.6666666666666666,
              "#ed7953"
             ],
             [
              0.7777777777777778,
              "#fb9f3a"
             ],
             [
              0.8888888888888888,
              "#fdca26"
             ],
             [
              1,
              "#f0f921"
             ]
            ],
            "type": "contour"
           }
          ],
          "contourcarpet": [
           {
            "colorbar": {
             "outlinewidth": 0,
             "ticks": ""
            },
            "type": "contourcarpet"
           }
          ],
          "heatmap": [
           {
            "colorbar": {
             "outlinewidth": 0,
             "ticks": ""
            },
            "colorscale": [
             [
              0,
              "#0d0887"
             ],
             [
              0.1111111111111111,
              "#46039f"
             ],
             [
              0.2222222222222222,
              "#7201a8"
             ],
             [
              0.3333333333333333,
              "#9c179e"
             ],
             [
              0.4444444444444444,
              "#bd3786"
             ],
             [
              0.5555555555555556,
              "#d8576b"
             ],
             [
              0.6666666666666666,
              "#ed7953"
             ],
             [
              0.7777777777777778,
              "#fb9f3a"
             ],
             [
              0.8888888888888888,
              "#fdca26"
             ],
             [
              1,
              "#f0f921"
             ]
            ],
            "type": "heatmap"
           }
          ],
          "heatmapgl": [
           {
            "colorbar": {
             "outlinewidth": 0,
             "ticks": ""
            },
            "colorscale": [
             [
              0,
              "#0d0887"
             ],
             [
              0.1111111111111111,
              "#46039f"
             ],
             [
              0.2222222222222222,
              "#7201a8"
             ],
             [
              0.3333333333333333,
              "#9c179e"
             ],
             [
              0.4444444444444444,
              "#bd3786"
             ],
             [
              0.5555555555555556,
              "#d8576b"
             ],
             [
              0.6666666666666666,
              "#ed7953"
             ],
             [
              0.7777777777777778,
              "#fb9f3a"
             ],
             [
              0.8888888888888888,
              "#fdca26"
             ],
             [
              1,
              "#f0f921"
             ]
            ],
            "type": "heatmapgl"
           }
          ],
          "histogram": [
           {
            "marker": {
             "colorbar": {
              "outlinewidth": 0,
              "ticks": ""
             }
            },
            "type": "histogram"
           }
          ],
          "histogram2d": [
           {
            "colorbar": {
             "outlinewidth": 0,
             "ticks": ""
            },
            "colorscale": [
             [
              0,
              "#0d0887"
             ],
             [
              0.1111111111111111,
              "#46039f"
             ],
             [
              0.2222222222222222,
              "#7201a8"
             ],
             [
              0.3333333333333333,
              "#9c179e"
             ],
             [
              0.4444444444444444,
              "#bd3786"
             ],
             [
              0.5555555555555556,
              "#d8576b"
             ],
             [
              0.6666666666666666,
              "#ed7953"
             ],
             [
              0.7777777777777778,
              "#fb9f3a"
             ],
             [
              0.8888888888888888,
              "#fdca26"
             ],
             [
              1,
              "#f0f921"
             ]
            ],
            "type": "histogram2d"
           }
          ],
          "histogram2dcontour": [
           {
            "colorbar": {
             "outlinewidth": 0,
             "ticks": ""
            },
            "colorscale": [
             [
              0,
              "#0d0887"
             ],
             [
              0.1111111111111111,
              "#46039f"
             ],
             [
              0.2222222222222222,
              "#7201a8"
             ],
             [
              0.3333333333333333,
              "#9c179e"
             ],
             [
              0.4444444444444444,
              "#bd3786"
             ],
             [
              0.5555555555555556,
              "#d8576b"
             ],
             [
              0.6666666666666666,
              "#ed7953"
             ],
             [
              0.7777777777777778,
              "#fb9f3a"
             ],
             [
              0.8888888888888888,
              "#fdca26"
             ],
             [
              1,
              "#f0f921"
             ]
            ],
            "type": "histogram2dcontour"
           }
          ],
          "mesh3d": [
           {
            "colorbar": {
             "outlinewidth": 0,
             "ticks": ""
            },
            "type": "mesh3d"
           }
          ],
          "parcoords": [
           {
            "line": {
             "colorbar": {
              "outlinewidth": 0,
              "ticks": ""
             }
            },
            "type": "parcoords"
           }
          ],
          "pie": [
           {
            "automargin": true,
            "type": "pie"
           }
          ],
          "scatter": [
           {
            "marker": {
             "colorbar": {
              "outlinewidth": 0,
              "ticks": ""
             }
            },
            "type": "scatter"
           }
          ],
          "scatter3d": [
           {
            "line": {
             "colorbar": {
              "outlinewidth": 0,
              "ticks": ""
             }
            },
            "marker": {
             "colorbar": {
              "outlinewidth": 0,
              "ticks": ""
             }
            },
            "type": "scatter3d"
           }
          ],
          "scattercarpet": [
           {
            "marker": {
             "colorbar": {
              "outlinewidth": 0,
              "ticks": ""
             }
            },
            "type": "scattercarpet"
           }
          ],
          "scattergeo": [
           {
            "marker": {
             "colorbar": {
              "outlinewidth": 0,
              "ticks": ""
             }
            },
            "type": "scattergeo"
           }
          ],
          "scattergl": [
           {
            "marker": {
             "colorbar": {
              "outlinewidth": 0,
              "ticks": ""
             }
            },
            "type": "scattergl"
           }
          ],
          "scattermapbox": [
           {
            "marker": {
             "colorbar": {
              "outlinewidth": 0,
              "ticks": ""
             }
            },
            "type": "scattermapbox"
           }
          ],
          "scatterpolar": [
           {
            "marker": {
             "colorbar": {
              "outlinewidth": 0,
              "ticks": ""
             }
            },
            "type": "scatterpolar"
           }
          ],
          "scatterpolargl": [
           {
            "marker": {
             "colorbar": {
              "outlinewidth": 0,
              "ticks": ""
             }
            },
            "type": "scatterpolargl"
           }
          ],
          "scatterternary": [
           {
            "marker": {
             "colorbar": {
              "outlinewidth": 0,
              "ticks": ""
             }
            },
            "type": "scatterternary"
           }
          ],
          "surface": [
           {
            "colorbar": {
             "outlinewidth": 0,
             "ticks": ""
            },
            "colorscale": [
             [
              0,
              "#0d0887"
             ],
             [
              0.1111111111111111,
              "#46039f"
             ],
             [
              0.2222222222222222,
              "#7201a8"
             ],
             [
              0.3333333333333333,
              "#9c179e"
             ],
             [
              0.4444444444444444,
              "#bd3786"
             ],
             [
              0.5555555555555556,
              "#d8576b"
             ],
             [
              0.6666666666666666,
              "#ed7953"
             ],
             [
              0.7777777777777778,
              "#fb9f3a"
             ],
             [
              0.8888888888888888,
              "#fdca26"
             ],
             [
              1,
              "#f0f921"
             ]
            ],
            "type": "surface"
           }
          ],
          "table": [
           {
            "cells": {
             "fill": {
              "color": "#EBF0F8"
             },
             "line": {
              "color": "white"
             }
            },
            "header": {
             "fill": {
              "color": "#C8D4E3"
             },
             "line": {
              "color": "white"
             }
            },
            "type": "table"
           }
          ]
         },
         "layout": {
          "annotationdefaults": {
           "arrowcolor": "#2a3f5f",
           "arrowhead": 0,
           "arrowwidth": 1
          },
          "coloraxis": {
           "colorbar": {
            "outlinewidth": 0,
            "ticks": ""
           }
          },
          "colorscale": {
           "diverging": [
            [
             0,
             "#8e0152"
            ],
            [
             0.1,
             "#c51b7d"
            ],
            [
             0.2,
             "#de77ae"
            ],
            [
             0.3,
             "#f1b6da"
            ],
            [
             0.4,
             "#fde0ef"
            ],
            [
             0.5,
             "#f7f7f7"
            ],
            [
             0.6,
             "#e6f5d0"
            ],
            [
             0.7,
             "#b8e186"
            ],
            [
             0.8,
             "#7fbc41"
            ],
            [
             0.9,
             "#4d9221"
            ],
            [
             1,
             "#276419"
            ]
           ],
           "sequential": [
            [
             0,
             "#0d0887"
            ],
            [
             0.1111111111111111,
             "#46039f"
            ],
            [
             0.2222222222222222,
             "#7201a8"
            ],
            [
             0.3333333333333333,
             "#9c179e"
            ],
            [
             0.4444444444444444,
             "#bd3786"
            ],
            [
             0.5555555555555556,
             "#d8576b"
            ],
            [
             0.6666666666666666,
             "#ed7953"
            ],
            [
             0.7777777777777778,
             "#fb9f3a"
            ],
            [
             0.8888888888888888,
             "#fdca26"
            ],
            [
             1,
             "#f0f921"
            ]
           ],
           "sequentialminus": [
            [
             0,
             "#0d0887"
            ],
            [
             0.1111111111111111,
             "#46039f"
            ],
            [
             0.2222222222222222,
             "#7201a8"
            ],
            [
             0.3333333333333333,
             "#9c179e"
            ],
            [
             0.4444444444444444,
             "#bd3786"
            ],
            [
             0.5555555555555556,
             "#d8576b"
            ],
            [
             0.6666666666666666,
             "#ed7953"
            ],
            [
             0.7777777777777778,
             "#fb9f3a"
            ],
            [
             0.8888888888888888,
             "#fdca26"
            ],
            [
             1,
             "#f0f921"
            ]
           ]
          },
          "colorway": [
           "#636efa",
           "#EF553B",
           "#00cc96",
           "#ab63fa",
           "#FFA15A",
           "#19d3f3",
           "#FF6692",
           "#B6E880",
           "#FF97FF",
           "#FECB52"
          ],
          "font": {
           "color": "#2a3f5f"
          },
          "geo": {
           "bgcolor": "white",
           "lakecolor": "white",
           "landcolor": "#E5ECF6",
           "showlakes": true,
           "showland": true,
           "subunitcolor": "white"
          },
          "hoverlabel": {
           "align": "left"
          },
          "hovermode": "closest",
          "mapbox": {
           "style": "light"
          },
          "paper_bgcolor": "white",
          "plot_bgcolor": "#E5ECF6",
          "polar": {
           "angularaxis": {
            "gridcolor": "white",
            "linecolor": "white",
            "ticks": ""
           },
           "bgcolor": "#E5ECF6",
           "radialaxis": {
            "gridcolor": "white",
            "linecolor": "white",
            "ticks": ""
           }
          },
          "scene": {
           "xaxis": {
            "backgroundcolor": "#E5ECF6",
            "gridcolor": "white",
            "gridwidth": 2,
            "linecolor": "white",
            "showbackground": true,
            "ticks": "",
            "zerolinecolor": "white"
           },
           "yaxis": {
            "backgroundcolor": "#E5ECF6",
            "gridcolor": "white",
            "gridwidth": 2,
            "linecolor": "white",
            "showbackground": true,
            "ticks": "",
            "zerolinecolor": "white"
           },
           "zaxis": {
            "backgroundcolor": "#E5ECF6",
            "gridcolor": "white",
            "gridwidth": 2,
            "linecolor": "white",
            "showbackground": true,
            "ticks": "",
            "zerolinecolor": "white"
           }
          },
          "shapedefaults": {
           "line": {
            "color": "#2a3f5f"
           }
          },
          "ternary": {
           "aaxis": {
            "gridcolor": "white",
            "linecolor": "white",
            "ticks": ""
           },
           "baxis": {
            "gridcolor": "white",
            "linecolor": "white",
            "ticks": ""
           },
           "bgcolor": "#E5ECF6",
           "caxis": {
            "gridcolor": "white",
            "linecolor": "white",
            "ticks": ""
           }
          },
          "title": {
           "x": 0.05
          },
          "xaxis": {
           "automargin": true,
           "gridcolor": "white",
           "linecolor": "white",
           "ticks": "",
           "title": {
            "standoff": 15
           },
           "zerolinecolor": "white",
           "zerolinewidth": 2
          },
          "yaxis": {
           "automargin": true,
           "gridcolor": "white",
           "linecolor": "white",
           "ticks": "",
           "title": {
            "standoff": 15
           },
           "zerolinecolor": "white",
           "zerolinewidth": 2
          }
         }
        },
        "title": {
         "text": "Biểu đồ các nước dẫn đầu trong cuộc đua lên vũ trụ qua từng năm"
        },
        "xaxis": {
         "anchor": "y",
         "domain": [
          0,
          1
         ],
         "title": {
          "text": "year"
         }
        },
        "yaxis": {
         "anchor": "x",
         "domain": [
          0,
          1
         ],
         "title": {
          "text": "Status Mission"
         }
        }
       }
      },
      "text/html": [
       "<div>\n",
       "        \n",
       "        \n",
       "            <div id=\"9cac81cf-9ee5-4ec0-b46d-3615f4a29a8c\" class=\"plotly-graph-div\" style=\"height:525px; width:100%;\"></div>\n",
       "            <script type=\"text/javascript\">\n",
       "                require([\"plotly\"], function(Plotly) {\n",
       "                    window.PLOTLYENV=window.PLOTLYENV || {};\n",
       "                    \n",
       "                if (document.getElementById(\"9cac81cf-9ee5-4ec0-b46d-3615f4a29a8c\")) {\n",
       "                    Plotly.newPlot(\n",
       "                        '9cac81cf-9ee5-4ec0-b46d-3615f4a29a8c',\n",
       "                        [{\"alignmentgroup\": \"True\", \"hovertemplate\": \"country=USSR<br>year=%{x}<br>Status Mission=%{y}<extra></extra>\", \"legendgroup\": \"USSR\", \"marker\": {\"color\": \"#636efa\"}, \"name\": \"USSR\", \"offsetgroup\": \"USSR\", \"orientation\": \"v\", \"showlegend\": true, \"textposition\": \"auto\", \"type\": \"bar\", \"x\": [1957, 1963, 1964, 1965, 1966, 1967, 1968, 1969, 1970, 1971, 1972, 1973, 1974, 1975, 1976, 1977, 1978, 1979, 1980, 1981, 1982, 1983, 1984, 1985, 1986, 1987, 1988, 1989, 1990], \"xaxis\": \"x\", \"y\": [2, 24, 36, 53, 51, 75, 80, 83, 88, 93, 79, 84, 83, 89, 95, 97, 71, 36, 40, 51, 53, 46, 42, 51, 49, 42, 36, 26, 37], \"yaxis\": \"y\"}, {\"alignmentgroup\": \"True\", \"hovertemplate\": \"country=USA<br>year=%{x}<br>Status Mission=%{y}<extra></extra>\", \"legendgroup\": \"USA\", \"marker\": {\"color\": \"#EF553B\"}, \"name\": \"USA\", \"offsetgroup\": \"USA\", \"orientation\": \"v\", \"showlegend\": true, \"textposition\": \"auto\", \"type\": \"bar\", \"x\": [1958, 1959, 1960, 1961, 1962, 1992, 1994, 1995, 1996, 1997, 1998, 1999, 2000, 2001, 2002, 2003, 2004, 2005, 2006, 2007, 2008, 2009, 2010, 2011, 2012, 2013, 2014, 2015, 2016, 2017], \"xaxis\": \"x\", \"y\": [23, 16, 30, 43, 60, 27, 26, 30, 33, 38, 36, 31, 28, 22, 17, 23, 16, 12, 18, 19, 15, 25, 15, 18, 13, 19, 23, 22, 27, 30], \"yaxis\": \"y\"}, {\"alignmentgroup\": \"True\", \"hovertemplate\": \"country=Russia<br>year=%{x}<br>Status Mission=%{y}<extra></extra>\", \"legendgroup\": \"Russia\", \"marker\": {\"color\": \"#00cc96\"}, \"name\": \"Russia\", \"offsetgroup\": \"Russia\", \"orientation\": \"v\", \"showlegend\": true, \"textposition\": \"auto\", \"type\": \"bar\", \"x\": [1991, 1993], \"xaxis\": \"x\", \"y\": [29, 27], \"yaxis\": \"y\"}, {\"alignmentgroup\": \"True\", \"hovertemplate\": \"country=China<br>year=%{x}<br>Status Mission=%{y}<extra></extra>\", \"legendgroup\": \"China\", \"marker\": {\"color\": \"#ab63fa\"}, \"name\": \"China\", \"offsetgroup\": \"China\", \"orientation\": \"v\", \"showlegend\": true, \"textposition\": \"auto\", \"type\": \"bar\", \"x\": [2018, 2019, 2020], \"xaxis\": \"x\", \"y\": [39, 34, 22], \"yaxis\": \"y\"}],\n",
       "                        {\"barmode\": \"relative\", \"legend\": {\"title\": {\"text\": \"country\"}, \"tracegroupgap\": 0}, \"template\": {\"data\": {\"bar\": [{\"error_x\": {\"color\": \"#2a3f5f\"}, \"error_y\": {\"color\": \"#2a3f5f\"}, \"marker\": {\"line\": {\"color\": \"#E5ECF6\", \"width\": 0.5}}, \"type\": \"bar\"}], \"barpolar\": [{\"marker\": {\"line\": {\"color\": \"#E5ECF6\", \"width\": 0.5}}, \"type\": \"barpolar\"}], \"carpet\": [{\"aaxis\": {\"endlinecolor\": \"#2a3f5f\", \"gridcolor\": \"white\", \"linecolor\": \"white\", \"minorgridcolor\": \"white\", \"startlinecolor\": \"#2a3f5f\"}, \"baxis\": {\"endlinecolor\": \"#2a3f5f\", \"gridcolor\": \"white\", \"linecolor\": \"white\", \"minorgridcolor\": \"white\", \"startlinecolor\": \"#2a3f5f\"}, \"type\": \"carpet\"}], \"choropleth\": [{\"colorbar\": {\"outlinewidth\": 0, \"ticks\": \"\"}, \"type\": \"choropleth\"}], \"contour\": [{\"colorbar\": {\"outlinewidth\": 0, \"ticks\": \"\"}, \"colorscale\": [[0.0, \"#0d0887\"], [0.1111111111111111, \"#46039f\"], [0.2222222222222222, \"#7201a8\"], [0.3333333333333333, \"#9c179e\"], [0.4444444444444444, \"#bd3786\"], [0.5555555555555556, \"#d8576b\"], [0.6666666666666666, \"#ed7953\"], [0.7777777777777778, \"#fb9f3a\"], [0.8888888888888888, \"#fdca26\"], [1.0, \"#f0f921\"]], \"type\": \"contour\"}], \"contourcarpet\": [{\"colorbar\": {\"outlinewidth\": 0, \"ticks\": \"\"}, \"type\": \"contourcarpet\"}], \"heatmap\": [{\"colorbar\": {\"outlinewidth\": 0, \"ticks\": \"\"}, \"colorscale\": [[0.0, \"#0d0887\"], [0.1111111111111111, \"#46039f\"], [0.2222222222222222, \"#7201a8\"], [0.3333333333333333, \"#9c179e\"], [0.4444444444444444, \"#bd3786\"], [0.5555555555555556, \"#d8576b\"], [0.6666666666666666, \"#ed7953\"], [0.7777777777777778, \"#fb9f3a\"], [0.8888888888888888, \"#fdca26\"], [1.0, \"#f0f921\"]], \"type\": \"heatmap\"}], \"heatmapgl\": [{\"colorbar\": {\"outlinewidth\": 0, \"ticks\": \"\"}, \"colorscale\": [[0.0, \"#0d0887\"], [0.1111111111111111, \"#46039f\"], [0.2222222222222222, \"#7201a8\"], [0.3333333333333333, \"#9c179e\"], [0.4444444444444444, \"#bd3786\"], [0.5555555555555556, \"#d8576b\"], [0.6666666666666666, \"#ed7953\"], [0.7777777777777778, \"#fb9f3a\"], [0.8888888888888888, \"#fdca26\"], [1.0, \"#f0f921\"]], \"type\": \"heatmapgl\"}], \"histogram\": [{\"marker\": {\"colorbar\": {\"outlinewidth\": 0, \"ticks\": \"\"}}, \"type\": \"histogram\"}], \"histogram2d\": [{\"colorbar\": {\"outlinewidth\": 0, \"ticks\": \"\"}, \"colorscale\": [[0.0, \"#0d0887\"], [0.1111111111111111, \"#46039f\"], [0.2222222222222222, \"#7201a8\"], [0.3333333333333333, \"#9c179e\"], [0.4444444444444444, \"#bd3786\"], [0.5555555555555556, \"#d8576b\"], [0.6666666666666666, \"#ed7953\"], [0.7777777777777778, \"#fb9f3a\"], [0.8888888888888888, \"#fdca26\"], [1.0, \"#f0f921\"]], \"type\": \"histogram2d\"}], \"histogram2dcontour\": [{\"colorbar\": {\"outlinewidth\": 0, \"ticks\": \"\"}, \"colorscale\": [[0.0, \"#0d0887\"], [0.1111111111111111, \"#46039f\"], [0.2222222222222222, \"#7201a8\"], [0.3333333333333333, \"#9c179e\"], [0.4444444444444444, \"#bd3786\"], [0.5555555555555556, \"#d8576b\"], [0.6666666666666666, \"#ed7953\"], [0.7777777777777778, \"#fb9f3a\"], [0.8888888888888888, \"#fdca26\"], [1.0, \"#f0f921\"]], \"type\": \"histogram2dcontour\"}], \"mesh3d\": [{\"colorbar\": {\"outlinewidth\": 0, \"ticks\": \"\"}, \"type\": \"mesh3d\"}], \"parcoords\": [{\"line\": {\"colorbar\": {\"outlinewidth\": 0, \"ticks\": \"\"}}, \"type\": \"parcoords\"}], \"pie\": [{\"automargin\": true, \"type\": \"pie\"}], \"scatter\": [{\"marker\": {\"colorbar\": {\"outlinewidth\": 0, \"ticks\": \"\"}}, \"type\": \"scatter\"}], \"scatter3d\": [{\"line\": {\"colorbar\": {\"outlinewidth\": 0, \"ticks\": \"\"}}, \"marker\": {\"colorbar\": {\"outlinewidth\": 0, \"ticks\": \"\"}}, \"type\": \"scatter3d\"}], \"scattercarpet\": [{\"marker\": {\"colorbar\": {\"outlinewidth\": 0, \"ticks\": \"\"}}, \"type\": \"scattercarpet\"}], \"scattergeo\": [{\"marker\": {\"colorbar\": {\"outlinewidth\": 0, \"ticks\": \"\"}}, \"type\": \"scattergeo\"}], \"scattergl\": [{\"marker\": {\"colorbar\": {\"outlinewidth\": 0, \"ticks\": \"\"}}, \"type\": \"scattergl\"}], \"scattermapbox\": [{\"marker\": {\"colorbar\": {\"outlinewidth\": 0, \"ticks\": \"\"}}, \"type\": \"scattermapbox\"}], \"scatterpolar\": [{\"marker\": {\"colorbar\": {\"outlinewidth\": 0, \"ticks\": \"\"}}, \"type\": \"scatterpolar\"}], \"scatterpolargl\": [{\"marker\": {\"colorbar\": {\"outlinewidth\": 0, \"ticks\": \"\"}}, \"type\": \"scatterpolargl\"}], \"scatterternary\": [{\"marker\": {\"colorbar\": {\"outlinewidth\": 0, \"ticks\": \"\"}}, \"type\": \"scatterternary\"}], \"surface\": [{\"colorbar\": {\"outlinewidth\": 0, \"ticks\": \"\"}, \"colorscale\": [[0.0, \"#0d0887\"], [0.1111111111111111, \"#46039f\"], [0.2222222222222222, \"#7201a8\"], [0.3333333333333333, \"#9c179e\"], [0.4444444444444444, \"#bd3786\"], [0.5555555555555556, \"#d8576b\"], [0.6666666666666666, \"#ed7953\"], [0.7777777777777778, \"#fb9f3a\"], [0.8888888888888888, \"#fdca26\"], [1.0, \"#f0f921\"]], \"type\": \"surface\"}], \"table\": [{\"cells\": {\"fill\": {\"color\": \"#EBF0F8\"}, \"line\": {\"color\": \"white\"}}, \"header\": {\"fill\": {\"color\": \"#C8D4E3\"}, \"line\": {\"color\": \"white\"}}, \"type\": \"table\"}]}, \"layout\": {\"annotationdefaults\": {\"arrowcolor\": \"#2a3f5f\", \"arrowhead\": 0, \"arrowwidth\": 1}, \"coloraxis\": {\"colorbar\": {\"outlinewidth\": 0, \"ticks\": \"\"}}, \"colorscale\": {\"diverging\": [[0, \"#8e0152\"], [0.1, \"#c51b7d\"], [0.2, \"#de77ae\"], [0.3, \"#f1b6da\"], [0.4, \"#fde0ef\"], [0.5, \"#f7f7f7\"], [0.6, \"#e6f5d0\"], [0.7, \"#b8e186\"], [0.8, \"#7fbc41\"], [0.9, \"#4d9221\"], [1, \"#276419\"]], \"sequential\": [[0.0, \"#0d0887\"], [0.1111111111111111, \"#46039f\"], [0.2222222222222222, \"#7201a8\"], [0.3333333333333333, \"#9c179e\"], [0.4444444444444444, \"#bd3786\"], [0.5555555555555556, \"#d8576b\"], [0.6666666666666666, \"#ed7953\"], [0.7777777777777778, \"#fb9f3a\"], [0.8888888888888888, \"#fdca26\"], [1.0, \"#f0f921\"]], \"sequentialminus\": [[0.0, \"#0d0887\"], [0.1111111111111111, \"#46039f\"], [0.2222222222222222, \"#7201a8\"], [0.3333333333333333, \"#9c179e\"], [0.4444444444444444, \"#bd3786\"], [0.5555555555555556, \"#d8576b\"], [0.6666666666666666, \"#ed7953\"], [0.7777777777777778, \"#fb9f3a\"], [0.8888888888888888, \"#fdca26\"], [1.0, \"#f0f921\"]]}, \"colorway\": [\"#636efa\", \"#EF553B\", \"#00cc96\", \"#ab63fa\", \"#FFA15A\", \"#19d3f3\", \"#FF6692\", \"#B6E880\", \"#FF97FF\", \"#FECB52\"], \"font\": {\"color\": \"#2a3f5f\"}, \"geo\": {\"bgcolor\": \"white\", \"lakecolor\": \"white\", \"landcolor\": \"#E5ECF6\", \"showlakes\": true, \"showland\": true, \"subunitcolor\": \"white\"}, \"hoverlabel\": {\"align\": \"left\"}, \"hovermode\": \"closest\", \"mapbox\": {\"style\": \"light\"}, \"paper_bgcolor\": \"white\", \"plot_bgcolor\": \"#E5ECF6\", \"polar\": {\"angularaxis\": {\"gridcolor\": \"white\", \"linecolor\": \"white\", \"ticks\": \"\"}, \"bgcolor\": \"#E5ECF6\", \"radialaxis\": {\"gridcolor\": \"white\", \"linecolor\": \"white\", \"ticks\": \"\"}}, \"scene\": {\"xaxis\": {\"backgroundcolor\": \"#E5ECF6\", \"gridcolor\": \"white\", \"gridwidth\": 2, \"linecolor\": \"white\", \"showbackground\": true, \"ticks\": \"\", \"zerolinecolor\": \"white\"}, \"yaxis\": {\"backgroundcolor\": \"#E5ECF6\", \"gridcolor\": \"white\", \"gridwidth\": 2, \"linecolor\": \"white\", \"showbackground\": true, \"ticks\": \"\", \"zerolinecolor\": \"white\"}, \"zaxis\": {\"backgroundcolor\": \"#E5ECF6\", \"gridcolor\": \"white\", \"gridwidth\": 2, \"linecolor\": \"white\", \"showbackground\": true, \"ticks\": \"\", \"zerolinecolor\": \"white\"}}, \"shapedefaults\": {\"line\": {\"color\": \"#2a3f5f\"}}, \"ternary\": {\"aaxis\": {\"gridcolor\": \"white\", \"linecolor\": \"white\", \"ticks\": \"\"}, \"baxis\": {\"gridcolor\": \"white\", \"linecolor\": \"white\", \"ticks\": \"\"}, \"bgcolor\": \"#E5ECF6\", \"caxis\": {\"gridcolor\": \"white\", \"linecolor\": \"white\", \"ticks\": \"\"}}, \"title\": {\"x\": 0.05}, \"xaxis\": {\"automargin\": true, \"gridcolor\": \"white\", \"linecolor\": \"white\", \"ticks\": \"\", \"title\": {\"standoff\": 15}, \"zerolinecolor\": \"white\", \"zerolinewidth\": 2}, \"yaxis\": {\"automargin\": true, \"gridcolor\": \"white\", \"linecolor\": \"white\", \"ticks\": \"\", \"title\": {\"standoff\": 15}, \"zerolinecolor\": \"white\", \"zerolinewidth\": 2}}}, \"title\": {\"text\": \"Bi\\u1ec3u \\u0111\\u1ed3 c\\u00e1c n\\u01b0\\u1edbc d\\u1eabn \\u0111\\u1ea7u trong cu\\u1ed9c \\u0111ua l\\u00ean v\\u0169 tr\\u1ee5 qua t\\u1eebng n\\u0103m\"}, \"xaxis\": {\"anchor\": \"y\", \"domain\": [0.0, 1.0], \"title\": {\"text\": \"year\"}}, \"yaxis\": {\"anchor\": \"x\", \"domain\": [0.0, 1.0], \"title\": {\"text\": \"Status Mission\"}}},\n",
       "                        {\"responsive\": true}\n",
       "                    ).then(function(){\n",
       "                            \n",
       "var gd = document.getElementById('9cac81cf-9ee5-4ec0-b46d-3615f4a29a8c');\n",
       "var x = new MutationObserver(function (mutations, observer) {{\n",
       "        var display = window.getComputedStyle(gd).display;\n",
       "        if (!display || display === 'none') {{\n",
       "            console.log([gd, 'removed!']);\n",
       "            Plotly.purge(gd);\n",
       "            observer.disconnect();\n",
       "        }}\n",
       "}});\n",
       "\n",
       "// Listen for the removal of the full notebook cells\n",
       "var notebookContainer = gd.closest('#notebook-container');\n",
       "if (notebookContainer) {{\n",
       "    x.observe(notebookContainer, {childList: true});\n",
       "}}\n",
       "\n",
       "// Listen for the clearing of the current output cell\n",
       "var outputEl = gd.closest('.output');\n",
       "if (outputEl) {{\n",
       "    x.observe(outputEl, {childList: true});\n",
       "}}\n",
       "\n",
       "                        })\n",
       "                };\n",
       "                });\n",
       "            </script>\n",
       "        </div>"
      ]
     },
     "metadata": {},
     "output_type": "display_data"
    }
   ],
   "source": [
    "launchCountry = spaceLaunch_df.groupby([\"year\",\"country\"])[\"Status Mission\"].count()\n",
    "launchCountry = launchCountry.reset_index().sort_values([\"year\",\"Status Mission\"],ascending = False)\n",
    "launchCountry = pd.concat([group[1].head(1) for group in launchCountry.groupby(['year'])])\n",
    "\n",
    "#Biểu đồ các nước dẫn đầu trong cuộc đua lên vũ trụ qua từng năm dựa theo số vụ phóng trong năm đó\n",
    "fig = px.bar(launchCountry, x=\"year\", y=\"Status Mission\", color='country',\n",
    "             title = \"Biểu đồ các nước dẫn đầu trong cuộc đua lên vũ trụ qua từng năm\")\n",
    "fig.show()"
   ]
  },
  {
   "cell_type": "markdown",
   "metadata": {
    "ExecuteTime": {
     "end_time": "2020-08-27T08:00:11.448402Z",
     "start_time": "2020-08-27T08:00:11.443447Z"
    }
   },
   "source": [
    "Mình khá bất ngờ với kết quả này vì bình thường trên truyền thông ta được nghe nhiều hơn về các vụ phóng của các\n",
    "cường quốc như Mỹ, Nga, Ấn Độ nhưng thật không ngờ Trung Quốc đã vượt mặt các cường quốc trên trong những năm gần đây \n",
    "cả về tổng số nhiệm vụ phóng và cả về tổng số vệ tinh đang hoạt động trên quỹ đạo, điều này dẫn đến một thắc mắc nữa của mình là từ khi nào và từ đâu?"
   ]
  },
  {
   "cell_type": "markdown",
   "metadata": {},
   "source": [
    "## Question 2: Từ khi nào và nhờ đâu Trung Quốc vươn lên dẫn đầu ngành công nghiệp vũ trụ như vậy? \n",
    "Ý nghĩa: sau khi ta trả lời câu hỏi trên ta sẽ thấy được sự vươn lên mạnh mẽ của Trung Quốc trong ngành công nghiệp hàng không vũ trụ rồi từ đó có thể mở rộng ra các lĩnh vực khác để có cái nhìn bao quát hơn về sự phát triển của Trung Quốc. Đó sẽ là thông tin, bài học quý giá cho Việt Nam chúng ta bởi vì biết người biết ta, trăm trận trăm thắng."
   ]
  },
  {
   "cell_type": "markdown",
   "metadata": {
    "ExecuteTime": {
     "end_time": "2020-08-28T09:50:56.417787Z",
     "start_time": "2020-08-28T09:50:56.413799Z"
    }
   },
   "source": [
    "### Biểu đồ số nhiệm vụ phóng tàu ra vũ trụ của các cường quốc"
   ]
  },
  {
   "cell_type": "code",
   "execution_count": 93,
   "metadata": {
    "ExecuteTime": {
     "end_time": "2020-08-28T09:50:00.818690Z",
     "start_time": "2020-08-28T09:50:00.597283Z"
    }
   },
   "outputs": [
    {
     "data": {
      "text/plain": [
       "<matplotlib.legend.Legend at 0x1d1cb740648>"
      ]
     },
     "execution_count": 93,
     "metadata": {},
     "output_type": "execute_result"
    },
    {
     "data": {
      "image/png": "[encoded data removed]",
      "text/plain": [
       "<Figure size 1440x720 with 1 Axes>"
      ]
     },
     "metadata": {
      "needs_background": "light"
     },
     "output_type": "display_data"
    }
   ],
   "source": [
    "#Ta lấy kết quả từ câu 1 để lấy ra 5 nước top đầu rồi vẽ biểu đồ lịch sử nhiệm vụ phóng tàu ra vũ trụ\n",
    "launch_Country = spaceLaunch_df.groupby([\"country\",\"year\"])[\"Status Mission\"].count().reset_index()\n",
    "launch_Country = launch_Country.rename(columns= {\"Status Mission\" : \"launch\"})\n",
    "plt.figure(figsize = (20,10))\n",
    "countries = [\"China\",\"USA\",\"India\",\"France\",\"Russia\",\"USSR\"]\n",
    "for country in countries:\n",
    "    plt.plot(launch_Country[launch_Country[\"country\"] == country][\"year\"],\n",
    "             launch_Country[launch_Country[\"country\"] == country][\"launch\"], label = country)\n",
    "    \n",
    "plt.title(\"Biểu đồ số nhiệm vụ phóng tàu ra vũ trụ của các cường quốc\", fontdict = {'fontsize':25})\n",
    "plt.legend()\n"
   ]
  },
  {
   "cell_type": "markdown",
   "metadata": {
    "ExecuteTime": {
     "end_time": "2020-08-25T09:46:35.200706Z",
     "start_time": "2020-08-25T09:46:35.194752Z"
    }
   },
   "source": [
    "Từ biểu đồ này ta có thể thấy trước 2017 gần như là Mỹ và Nga thay nhau đứng đầu về số lượng nhiệm vụ ra ngoài không gian, nhưng những năm gần đây thì Trung Quốc lại nổi lên một cách mạnh mẽ vượt qua 2 cường quốc kia dù là nước đi sau trong cuộc đua không gian này, liệu ta có thể hiểu thêm bằng cách phân tích cuộc đua của các công ty qua các năm?"
   ]
  },
  {
   "cell_type": "markdown",
   "metadata": {},
   "source": [
    "### Các công ty lớn của Trung Quốc và số nhiệm vụ phóng đã hoàn thành"
   ]
  },
  {
   "cell_type": "code",
   "execution_count": 26,
   "metadata": {
    "ExecuteTime": {
     "end_time": "2020-08-28T07:59:08.610065Z",
     "start_time": "2020-08-28T07:59:08.415620Z"
    }
   },
   "outputs": [
    {
     "data": {
      "text/plain": [
       "<BarContainer object of 6 artists>"
      ]
     },
     "execution_count": 26,
     "metadata": {},
     "output_type": "execute_result"
    },
    {
     "data": {
      "image/png": "[encoded data removed]",
      "text/plain": [
       "<Figure size 432x288 with 1 Axes>"
      ]
     },
     "metadata": {
      "needs_background": "light"
     },
     "output_type": "display_data"
    }
   ],
   "source": [
    "spaceLaunch_China_df = spaceLaunch_df[spaceLaunch_df[\"country\"] == \"China\"]\n",
    "China_companies = spaceLaunch_China_df.groupby([\"Company Name\"])[\"Status Mission\"].count()\n",
    "plt.bar(China_companies.index,China_companies.values)\n",
    "plt.title(\"Các công ty lớn của Trung Quốc và số nhiệm vụ phóng đã hoàn thành\")"
   ]
  },
  {
   "cell_type": "markdown",
   "metadata": {},
   "source": [
    "CASC là một công ty nhà nước của Trung Quốc về khoa học hàng không vũ trụ, ta xem xét thử sự phát triển của công ty này"
   ]
  },
  {
   "cell_type": "markdown",
   "metadata": {},
   "source": [
    "### Biểu đồ số năm kinh nghiệm phóng tàu vũ trụ của top 10 các công ty về hàng không vũ"
   ]
  },
  {
   "cell_type": "code",
   "execution_count": 27,
   "metadata": {
    "ExecuteTime": {
     "end_time": "2020-08-28T07:59:08.795605Z",
     "start_time": "2020-08-28T07:59:08.612059Z"
    }
   },
   "outputs": [
    {
     "data": {
      "text/plain": [
       "<BarContainer object of 10 artists>"
      ]
     },
     "execution_count": 27,
     "metadata": {},
     "output_type": "execute_result"
    },
    {
     "data": {
      "image/png": "[encoded data removed]",
      "text/plain": [
       "<Figure size 360x360 with 1 Axes>"
      ]
     },
     "metadata": {
      "needs_background": "light"
     },
     "output_type": "display_data"
    }
   ],
   "source": [
    "#Biểu đồ số năm kinh nghiệm phóng tàu vũ trụ của top 10 các công ty về hàng không vũ trụ dựa theo số năm phóng \n",
    "companies_exp_df = spaceLaunch_df.groupby([\"Company Name\"])[\"year\"].nunique().sort_values().tail(10)\n",
    "plt.figure(figsize = (5,5))\n",
    "plt.barh(companies_exp_df.index,companies_exp_df.values)"
   ]
  },
  {
   "cell_type": "markdown",
   "metadata": {},
   "source": [
    "Có thể thấy rằng công ty này của Trung Quốc có tuổi đời kinh nghiệm trong việc phóng tàu vũ trụ lâu nhất trong các công ty lớn"
   ]
  },
  {
   "cell_type": "markdown",
   "metadata": {},
   "source": [
    "### Số các vụ phóng của CASC qua từng năm"
   ]
  },
  {
   "cell_type": "code",
   "execution_count": 28,
   "metadata": {
    "ExecuteTime": {
     "end_time": "2020-08-28T07:59:08.934222Z",
     "start_time": "2020-08-28T07:59:08.796631Z"
    }
   },
   "outputs": [
    {
     "data": {
      "text/plain": [
       "<BarContainer object of 47 artists>"
      ]
     },
     "execution_count": 28,
     "metadata": {},
     "output_type": "execute_result"
    },
    {
     "data": {
      "image/png": "[encoded data removed]",
      "text/plain": [
       "<Figure size 432x288 with 1 Axes>"
      ]
     },
     "metadata": {
      "needs_background": "light"
     },
     "output_type": "display_data"
    }
   ],
   "source": [
    "CASC = spaceLaunch_China_df[spaceLaunch_China_df[\"Company Name\"] == \"CASC\"]\n",
    "CASC = CASC.groupby(\"year\")[\"Status Mission\"].count().reset_index()\n",
    "plt.bar(CASC[\"year\"],CASC[\"Status Mission\"])"
   ]
  },
  {
   "cell_type": "markdown",
   "metadata": {},
   "source": [
    "Nếu kết hợp với việc tìm kiếm thông tin trên google về sự phát triển của khoa học công nghệ ở Trung Quốc thì cũng thấy có sự tương đồng về thời điểm khi năm 2016 cũng là năm Trung Quốc vượt mặt Mỹ và là nước có sống lượng bài báo khoa học được công bố nhiều nhất trên thế giới và là năm Trung Quốc thông qua luật an ninh mạng quốc gia yêu cầu mọi công ty nước ngoài làm ăn tại Trung Quốc phải lưu ít nhất 6 tháng dữ liệu ngay bên trong Trung Quốc. Cho thấy Trung Quốc có tham vọng rất to lớn kiểm soát thông tin trong nước và trở thành một cường quốc công nghệ trên thế giới, mặt khác số lượng tên lửa được phóng ra ngoài không gian tăng vọt có thể liên quan đến sự đầu tư, phát triển, áp dụng rộng rãi của công nghệ trí tuệ nhân tạo, nhận diện khuôn mặt và hệ thống giám sát, chấm điểm công dân của Trung Quốc, gây ra nhiều tranh cãi trong cộng đồng quốc tế. Từ đó có thể suy ra nguyên nhân ngành công nghiệp hàng không vũ trụ của Trung Quốc phát triển mạnh là nhờ kinh nghiệm lâu năm, sự phát triển mạnh mẽ của khoa học trong nước cùng sự đầu tư mạnh mẽ của chính phủ nhằm các mục đích an ninh, chính trị, kinh tế khác."
   ]
  },
  {
   "cell_type": "markdown",
   "metadata": {
    "ExecuteTime": {
     "end_time": "2020-08-25T01:54:15.900185Z",
     "start_time": "2020-08-25T01:54:15.897240Z"
    }
   },
   "source": [
    "## Question 3: Sự phát triển của ngành công nghiệp khoa học vũ trụ sẽ đi đến đâu? "
   ]
  },
  {
   "cell_type": "markdown",
   "metadata": {},
   "source": [
    "- Ta sẽ dự đoán sự phát triển của 3 cường quốc trong top 3 trong 5 năm tới tính theo số lượng phóng tàu của mỗi nước\n",
    "bằng cách dùng mô hình ARIMA\n",
    "- Ý nghĩa: việc dự đoán sẽ cho những đối thủ trong ngành một sự chuẩn bị và động lực để tăng cường phát triển sáng tạo để có thể vượt qua đối thủ của mình. Việc hiểu biết đối thủ của mình là ai và sẽ như thế nào là một yếu tố rất quan trọng trong một cuộc đua"
   ]
  },
  {
   "cell_type": "markdown",
   "metadata": {},
   "source": [
    "### Biểu đồ số nhiệm vụ phóng tàu ra vũ trụ của các cường quốc"
   ]
  },
  {
   "cell_type": "code",
   "execution_count": 95,
   "metadata": {
    "ExecuteTime": {
     "end_time": "2020-08-28T09:54:41.581243Z",
     "start_time": "2020-08-28T09:54:41.441267Z"
    }
   },
   "outputs": [
    {
     "data": {
      "text/plain": [
       "Text(0.5, 0, 'Year')"
      ]
     },
     "execution_count": 95,
     "metadata": {},
     "output_type": "execute_result"
    },
    {
     "data": {
      "image/png": "[encoded data removed]",
      "text/plain": [
       "<Figure size 432x288 with 1 Axes>"
      ]
     },
     "metadata": {
      "needs_background": "light"
     },
     "output_type": "display_data"
    }
   ],
   "source": [
    "#Biểu đồ số vụ phóng của Mỹ, Nga, Trung Quốc, sử dụng là dataFrame launch_Country của câu 2 trước\n",
    "countries = [\"China\",\"USA\",\"Russia\",\"USSR\"]\n",
    "for country in countries:\n",
    "    plt.plot(launch_Country[launch_Country[\"country\"] == country][\"year\"],\n",
    "             launch_Country[launch_Country[\"country\"] == country][\"launch\"], label = country)\n",
    "    \n",
    "plt.title(\"Biểu đồ số nhiệm vụ phóng tàu ra vũ trụ của các cường quốc\", fontdict = {'fontsize':13})\n",
    "plt.legend()\n",
    "plt.ylabel(\"Number of launch\")\n",
    "plt.xlabel(\"Year\")"
   ]
  },
  {
   "cell_type": "markdown",
   "metadata": {},
   "source": [
    "### Dự báo cho sự phát triển của Trung Quốc"
   ]
  },
  {
   "cell_type": "code",
   "execution_count": 97,
   "metadata": {
    "ExecuteTime": {
     "end_time": "2020-08-28T09:58:06.410830Z",
     "start_time": "2020-08-28T09:58:06.307744Z"
    }
   },
   "outputs": [
    {
     "name": "stderr",
     "output_type": "stream",
     "text": [
      "C:\\Users\\Admin\\anaconda3\\lib\\site-packages\\statsmodels\\tsa\\base\\tsa_model.py:214: ValueWarning:\n",
      "\n",
      "An unsupported index was provided and will be ignored when e.g. forecasting.\n",
      "\n",
      "C:\\Users\\Admin\\anaconda3\\lib\\site-packages\\statsmodels\\tsa\\base\\tsa_model.py:214: ValueWarning:\n",
      "\n",
      "An unsupported index was provided and will be ignored when e.g. forecasting.\n",
      "\n"
     ]
    },
    {
     "data": {
      "text/html": [
       "<table class=\"simpletable\">\n",
       "<caption>ARIMA Model Results</caption>\n",
       "<tr>\n",
       "  <th>Dep. Variable:</th>     <td>D.launch</td>     <th>  No. Observations:  </th>    <td>46</td>   \n",
       "</tr>\n",
       "<tr>\n",
       "  <th>Model:</th>          <td>ARIMA(3, 1, 1)</td>  <th>  Log Likelihood     </th> <td>-130.540</td>\n",
       "</tr>\n",
       "<tr>\n",
       "  <th>Method:</th>             <td>css-mle</td>     <th>  S.D. of innovations</th>   <td>4.098</td> \n",
       "</tr>\n",
       "<tr>\n",
       "  <th>Date:</th>          <td>Fri, 28 Aug 2020</td> <th>  AIC                </th>  <td>273.080</td>\n",
       "</tr>\n",
       "<tr>\n",
       "  <th>Time:</th>              <td>16:58:06</td>     <th>  BIC                </th>  <td>284.052</td>\n",
       "</tr>\n",
       "<tr>\n",
       "  <th>Sample:</th>                <td>1</td>        <th>  HQIC               </th>  <td>277.190</td>\n",
       "</tr>\n",
       "<tr>\n",
       "  <th></th>                       <td> </td>        <th>                     </th>     <td> </td>   \n",
       "</tr>\n",
       "</table>\n",
       "<table class=\"simpletable\">\n",
       "<tr>\n",
       "         <td></td>           <th>coef</th>     <th>std err</th>      <th>z</th>      <th>P>|z|</th>  <th>[0.025</th>    <th>0.975]</th>  \n",
       "</tr>\n",
       "<tr>\n",
       "  <th>const</th>          <td>    0.9907</td> <td>    0.929</td> <td>    1.066</td> <td> 0.286</td> <td>   -0.831</td> <td>    2.812</td>\n",
       "</tr>\n",
       "<tr>\n",
       "  <th>ar.L1.D.launch</th> <td>   -0.3028</td> <td>    1.412</td> <td>   -0.214</td> <td> 0.830</td> <td>   -3.071</td> <td>    2.466</td>\n",
       "</tr>\n",
       "<tr>\n",
       "  <th>ar.L2.D.launch</th> <td>    0.5028</td> <td>    0.348</td> <td>    1.444</td> <td> 0.149</td> <td>   -0.180</td> <td>    1.185</td>\n",
       "</tr>\n",
       "<tr>\n",
       "  <th>ar.L3.D.launch</th> <td>    0.1048</td> <td>    0.739</td> <td>    0.142</td> <td> 0.887</td> <td>   -1.343</td> <td>    1.553</td>\n",
       "</tr>\n",
       "<tr>\n",
       "  <th>ma.L1.D.launch</th> <td>    0.0817</td> <td>    1.408</td> <td>    0.058</td> <td> 0.954</td> <td>   -2.679</td> <td>    2.842</td>\n",
       "</tr>\n",
       "</table>\n",
       "<table class=\"simpletable\">\n",
       "<caption>Roots</caption>\n",
       "<tr>\n",
       "    <td></td>   <th>            Real</th>  <th>         Imaginary</th> <th>         Modulus</th>  <th>        Frequency</th>\n",
       "</tr>\n",
       "<tr>\n",
       "  <th>AR.1</th> <td>           1.4837</td> <td>          +0.0000j</td> <td>           1.4837</td> <td>           0.0000</td>\n",
       "</tr>\n",
       "<tr>\n",
       "  <th>AR.2</th> <td>          -1.2878</td> <td>          +0.0000j</td> <td>           1.2878</td> <td>           0.5000</td>\n",
       "</tr>\n",
       "<tr>\n",
       "  <th>AR.3</th> <td>          -4.9924</td> <td>          +0.0000j</td> <td>           4.9924</td> <td>           0.5000</td>\n",
       "</tr>\n",
       "<tr>\n",
       "  <th>MA.1</th> <td>         -12.2438</td> <td>          +0.0000j</td> <td>          12.2438</td> <td>           0.5000</td>\n",
       "</tr>\n",
       "</table>"
      ],
      "text/plain": [
       "<class 'statsmodels.iolib.summary.Summary'>\n",
       "\"\"\"\n",
       "                             ARIMA Model Results                              \n",
       "==============================================================================\n",
       "Dep. Variable:               D.launch   No. Observations:                   46\n",
       "Model:                 ARIMA(3, 1, 1)   Log Likelihood                -130.540\n",
       "Method:                       css-mle   S.D. of innovations              4.098\n",
       "Date:                Fri, 28 Aug 2020   AIC                            273.080\n",
       "Time:                        16:58:06   BIC                            284.052\n",
       "Sample:                             1   HQIC                           277.190\n",
       "                                                                              \n",
       "==================================================================================\n",
       "                     coef    std err          z      P>|z|      [0.025      0.975]\n",
       "----------------------------------------------------------------------------------\n",
       "const              0.9907      0.929      1.066      0.286      -0.831       2.812\n",
       "ar.L1.D.launch    -0.3028      1.412     -0.214      0.830      -3.071       2.466\n",
       "ar.L2.D.launch     0.5028      0.348      1.444      0.149      -0.180       1.185\n",
       "ar.L3.D.launch     0.1048      0.739      0.142      0.887      -1.343       1.553\n",
       "ma.L1.D.launch     0.0817      1.408      0.058      0.954      -2.679       2.842\n",
       "                                    Roots                                    \n",
       "=============================================================================\n",
       "                  Real          Imaginary           Modulus         Frequency\n",
       "-----------------------------------------------------------------------------\n",
       "AR.1            1.4837           +0.0000j            1.4837            0.0000\n",
       "AR.2           -1.2878           +0.0000j            1.2878            0.5000\n",
       "AR.3           -4.9924           +0.0000j            4.9924            0.5000\n",
       "MA.1          -12.2438           +0.0000j           12.2438            0.5000\n",
       "-----------------------------------------------------------------------------\n",
       "\"\"\""
      ]
     },
     "execution_count": 97,
     "metadata": {},
     "output_type": "execute_result"
    }
   ],
   "source": [
    "China_data_df = launch_Country[launch_Country[\"country\"] == \"China\"]\n",
    "China_data_df = China_data_df[China_data_df[\"year\"] < 2020]\n",
    "China_data_df = China_data_df.rename(columns= {\"Status Misson\" : \"launch\"})\n",
    "model = ARIMA(China_data_df[\"launch\"], order=(3,1,1))\n",
    "#Ở đây ta chọn chỉ số p,d,q là 3 1 1 vì:\n",
    "#p = 3: sau 3 lần sai phân ta mới thấy độ lệch của biểu đồ PACF đủ lớn\n",
    "#d = 1: trong quá trình phân tích chuỗi thời gian, ta thấy biểu đồ ACF đạt được trạng thái ổn định sau 1 lần sai phân\n",
    "#q = 1: quan sát lại biểu đồ ACF ta thấy độ lệch không nhiều nên đặt là q = 1\n",
    "model_fit = model.fit(disp=0)\n",
    "model_fit.summary()"
   ]
  },
  {
   "cell_type": "markdown",
   "metadata": {},
   "source": [
    "Quan sát sơ lược trên ta thấy chỉ số P > |z| của AR 3 khá lớn nên điều chỉnh Model giảm xuống AR 2"
   ]
  },
  {
   "cell_type": "code",
   "execution_count": 31,
   "metadata": {
    "ExecuteTime": {
     "end_time": "2020-08-28T07:59:09.252347Z",
     "start_time": "2020-08-28T07:59:09.175551Z"
    }
   },
   "outputs": [
    {
     "name": "stderr",
     "output_type": "stream",
     "text": [
      "C:\\Users\\Admin\\anaconda3\\lib\\site-packages\\statsmodels\\tsa\\base\\tsa_model.py:214: ValueWarning:\n",
      "\n",
      "An unsupported index was provided and will be ignored when e.g. forecasting.\n",
      "\n",
      "C:\\Users\\Admin\\anaconda3\\lib\\site-packages\\statsmodels\\tsa\\base\\tsa_model.py:214: ValueWarning:\n",
      "\n",
      "An unsupported index was provided and will be ignored when e.g. forecasting.\n",
      "\n"
     ]
    },
    {
     "data": {
      "text/html": [
       "<table class=\"simpletable\">\n",
       "<caption>ARIMA Model Results</caption>\n",
       "<tr>\n",
       "  <th>Dep. Variable:</th>     <td>D2.launch</td>    <th>  No. Observations:  </th>    <td>45</td>   \n",
       "</tr>\n",
       "<tr>\n",
       "  <th>Model:</th>          <td>ARIMA(2, 2, 1)</td>  <th>  Log Likelihood     </th> <td>-128.589</td>\n",
       "</tr>\n",
       "<tr>\n",
       "  <th>Method:</th>             <td>css-mle</td>     <th>  S.D. of innovations</th>   <td>4.029</td> \n",
       "</tr>\n",
       "<tr>\n",
       "  <th>Date:</th>          <td>Fri, 28 Aug 2020</td> <th>  AIC                </th>  <td>267.178</td>\n",
       "</tr>\n",
       "<tr>\n",
       "  <th>Time:</th>              <td>14:59:09</td>     <th>  BIC                </th>  <td>276.211</td>\n",
       "</tr>\n",
       "<tr>\n",
       "  <th>Sample:</th>                <td>2</td>        <th>  HQIC               </th>  <td>270.545</td>\n",
       "</tr>\n",
       "<tr>\n",
       "  <th></th>                       <td> </td>        <th>                     </th>     <td> </td>   \n",
       "</tr>\n",
       "</table>\n",
       "<table class=\"simpletable\">\n",
       "<tr>\n",
       "         <td></td>            <th>coef</th>     <th>std err</th>      <th>z</th>      <th>P>|z|</th>  <th>[0.025</th>    <th>0.975]</th>  \n",
       "</tr>\n",
       "<tr>\n",
       "  <th>const</th>           <td>    0.0949</td> <td>    0.058</td> <td>    1.635</td> <td> 0.102</td> <td>   -0.019</td> <td>    0.209</td>\n",
       "</tr>\n",
       "<tr>\n",
       "  <th>ar.L1.D2.launch</th> <td>   -0.2308</td> <td>    0.137</td> <td>   -1.688</td> <td> 0.091</td> <td>   -0.499</td> <td>    0.037</td>\n",
       "</tr>\n",
       "<tr>\n",
       "  <th>ar.L2.D2.launch</th> <td>    0.4999</td> <td>    0.166</td> <td>    3.003</td> <td> 0.003</td> <td>    0.174</td> <td>    0.826</td>\n",
       "</tr>\n",
       "<tr>\n",
       "  <th>ma.L1.D2.launch</th> <td>   -1.0000</td> <td>    0.079</td> <td>  -12.590</td> <td> 0.000</td> <td>   -1.156</td> <td>   -0.844</td>\n",
       "</tr>\n",
       "</table>\n",
       "<table class=\"simpletable\">\n",
       "<caption>Roots</caption>\n",
       "<tr>\n",
       "    <td></td>   <th>            Real</th>  <th>         Imaginary</th> <th>         Modulus</th>  <th>        Frequency</th>\n",
       "</tr>\n",
       "<tr>\n",
       "  <th>AR.1</th> <td>          -1.2023</td> <td>          +0.0000j</td> <td>           1.2023</td> <td>           0.5000</td>\n",
       "</tr>\n",
       "<tr>\n",
       "  <th>AR.2</th> <td>           1.6640</td> <td>          +0.0000j</td> <td>           1.6640</td> <td>           0.0000</td>\n",
       "</tr>\n",
       "<tr>\n",
       "  <th>MA.1</th> <td>           1.0000</td> <td>          +0.0000j</td> <td>           1.0000</td> <td>           0.0000</td>\n",
       "</tr>\n",
       "</table>"
      ],
      "text/plain": [
       "<class 'statsmodels.iolib.summary.Summary'>\n",
       "\"\"\"\n",
       "                             ARIMA Model Results                              \n",
       "==============================================================================\n",
       "Dep. Variable:              D2.launch   No. Observations:                   45\n",
       "Model:                 ARIMA(2, 2, 1)   Log Likelihood                -128.589\n",
       "Method:                       css-mle   S.D. of innovations              4.029\n",
       "Date:                Fri, 28 Aug 2020   AIC                            267.178\n",
       "Time:                        14:59:09   BIC                            276.211\n",
       "Sample:                             2   HQIC                           270.545\n",
       "                                                                              \n",
       "===================================================================================\n",
       "                      coef    std err          z      P>|z|      [0.025      0.975]\n",
       "-----------------------------------------------------------------------------------\n",
       "const               0.0949      0.058      1.635      0.102      -0.019       0.209\n",
       "ar.L1.D2.launch    -0.2308      0.137     -1.688      0.091      -0.499       0.037\n",
       "ar.L2.D2.launch     0.4999      0.166      3.003      0.003       0.174       0.826\n",
       "ma.L1.D2.launch    -1.0000      0.079    -12.590      0.000      -1.156      -0.844\n",
       "                                    Roots                                    \n",
       "=============================================================================\n",
       "                  Real          Imaginary           Modulus         Frequency\n",
       "-----------------------------------------------------------------------------\n",
       "AR.1           -1.2023           +0.0000j            1.2023            0.5000\n",
       "AR.2            1.6640           +0.0000j            1.6640            0.0000\n",
       "MA.1            1.0000           +0.0000j            1.0000            0.0000\n",
       "-----------------------------------------------------------------------------\n",
       "\"\"\""
      ]
     },
     "execution_count": 31,
     "metadata": {},
     "output_type": "execute_result"
    }
   ],
   "source": [
    "model = ARIMA(China_data_df[\"launch\"], order=(2,2,1))\n",
    "model_fit = model.fit(disp=0)\n",
    "model_fit.summary()"
   ]
  },
  {
   "cell_type": "markdown",
   "metadata": {},
   "source": [
    "Ta thấy chỉ số AIC đã giảm và P > |z| của AR 2 và MA 1 khá tốt"
   ]
  },
  {
   "cell_type": "code",
   "execution_count": 32,
   "metadata": {
    "ExecuteTime": {
     "end_time": "2020-08-28T07:59:09.362083Z",
     "start_time": "2020-08-28T07:59:09.253343Z"
    }
   },
   "outputs": [
    {
     "data": {
      "image/png": "[encoded data removed]",
      "text/plain": [
       "<Figure size 432x288 with 1 Axes>"
      ]
     },
     "metadata": {
      "needs_background": "light"
     },
     "output_type": "display_data"
    }
   ],
   "source": [
    "model_fit.plot_predict(dynamic=False)\n",
    "plt.show()"
   ]
  },
  {
   "cell_type": "code",
   "execution_count": 33,
   "metadata": {
    "ExecuteTime": {
     "end_time": "2020-08-28T07:59:09.465775Z",
     "start_time": "2020-08-28T07:59:09.363051Z"
    }
   },
   "outputs": [
    {
     "data": {
      "text/plain": [
       "Text(0.5, 1.0, 'Dự báo số nhiệm vụ phóng cho Trung Quốc trong 5 năm tới')"
      ]
     },
     "execution_count": 33,
     "metadata": {},
     "output_type": "execute_result"
    },
    {
     "data": {
      "image/png": "[encoded data removed]",
      "text/plain": [
       "<Figure size 432x288 with 1 Axes>"
      ]
     },
     "metadata": {
      "needs_background": "light"
     },
     "output_type": "display_data"
    }
   ],
   "source": [
    "preds, _, _ = model_fit.forecast(6, alpha=0.05)\n",
    "preds = preds.tolist()\n",
    "preds = [int(item) for item in preds]\n",
    "years = ['2020', '2021', '2022', '2023', '2024', '2025']\n",
    "\n",
    "new_df = pd.DataFrame()\n",
    "new_df['year'] = years\n",
    "new_df[\"launch\"] = preds\n",
    "China_data = China_data_df[[\"year\",\"launch\"]]\n",
    "China_data = pd.concat([China_data, new_df])\n",
    "plt.plot(China_data[\"year\"], China_data[\"launch\"])\n",
    "plt.title(\"Dự báo số nhiệm vụ phóng cho Trung Quốc trong 5 năm tới\")"
   ]
  },
  {
   "cell_type": "markdown",
   "metadata": {},
   "source": [
    "### Dự báo cho sự phát triển của Hoa Kỳ"
   ]
  },
  {
   "cell_type": "code",
   "execution_count": 34,
   "metadata": {
    "ExecuteTime": {
     "end_time": "2020-08-28T07:59:09.555538Z",
     "start_time": "2020-08-28T07:59:09.466772Z"
    }
   },
   "outputs": [
    {
     "name": "stderr",
     "output_type": "stream",
     "text": [
      "C:\\Users\\Admin\\anaconda3\\lib\\site-packages\\ipykernel_launcher.py:1: UserWarning:\n",
      "\n",
      "Boolean Series key will be reindexed to match DataFrame index.\n",
      "\n",
      "C:\\Users\\Admin\\anaconda3\\lib\\site-packages\\statsmodels\\tsa\\base\\tsa_model.py:214: ValueWarning:\n",
      "\n",
      "An unsupported index was provided and will be ignored when e.g. forecasting.\n",
      "\n",
      "C:\\Users\\Admin\\anaconda3\\lib\\site-packages\\statsmodels\\tsa\\base\\tsa_model.py:214: ValueWarning:\n",
      "\n",
      "An unsupported index was provided and will be ignored when e.g. forecasting.\n",
      "\n"
     ]
    },
    {
     "data": {
      "text/html": [
       "<table class=\"simpletable\">\n",
       "<caption>ARIMA Model Results</caption>\n",
       "<tr>\n",
       "  <th>Dep. Variable:</th>     <td>D.launch</td>     <th>  No. Observations:  </th>    <td>62</td>   \n",
       "</tr>\n",
       "<tr>\n",
       "  <th>Model:</th>          <td>ARIMA(1, 1, 1)</td>  <th>  Log Likelihood     </th> <td>-221.163</td>\n",
       "</tr>\n",
       "<tr>\n",
       "  <th>Method:</th>             <td>css-mle</td>     <th>  S.D. of innovations</th>   <td>8.383</td> \n",
       "</tr>\n",
       "<tr>\n",
       "  <th>Date:</th>          <td>Fri, 28 Aug 2020</td> <th>  AIC                </th>  <td>450.325</td>\n",
       "</tr>\n",
       "<tr>\n",
       "  <th>Time:</th>              <td>14:59:09</td>     <th>  BIC                </th>  <td>458.834</td>\n",
       "</tr>\n",
       "<tr>\n",
       "  <th>Sample:</th>                <td>1</td>        <th>  HQIC               </th>  <td>453.666</td>\n",
       "</tr>\n",
       "<tr>\n",
       "  <th></th>                       <td> </td>        <th>                     </th>     <td> </td>   \n",
       "</tr>\n",
       "</table>\n",
       "<table class=\"simpletable\">\n",
       "<tr>\n",
       "         <td></td>           <th>coef</th>     <th>std err</th>      <th>z</th>      <th>P>|z|</th>  <th>[0.025</th>    <th>0.975]</th>  \n",
       "</tr>\n",
       "<tr>\n",
       "  <th>const</th>          <td>    0.0673</td> <td>    0.145</td> <td>    0.463</td> <td> 0.643</td> <td>   -0.218</td> <td>    0.352</td>\n",
       "</tr>\n",
       "<tr>\n",
       "  <th>ar.L1.D.launch</th> <td>    0.6248</td> <td>    0.108</td> <td>    5.768</td> <td> 0.000</td> <td>    0.412</td> <td>    0.837</td>\n",
       "</tr>\n",
       "<tr>\n",
       "  <th>ma.L1.D.launch</th> <td>   -1.0000</td> <td>    0.047</td> <td>  -21.317</td> <td> 0.000</td> <td>   -1.092</td> <td>   -0.908</td>\n",
       "</tr>\n",
       "</table>\n",
       "<table class=\"simpletable\">\n",
       "<caption>Roots</caption>\n",
       "<tr>\n",
       "    <td></td>   <th>            Real</th>  <th>         Imaginary</th> <th>         Modulus</th>  <th>        Frequency</th>\n",
       "</tr>\n",
       "<tr>\n",
       "  <th>AR.1</th> <td>           1.6006</td> <td>          +0.0000j</td> <td>           1.6006</td> <td>           0.0000</td>\n",
       "</tr>\n",
       "<tr>\n",
       "  <th>MA.1</th> <td>           1.0000</td> <td>          +0.0000j</td> <td>           1.0000</td> <td>           0.0000</td>\n",
       "</tr>\n",
       "</table>"
      ],
      "text/plain": [
       "<class 'statsmodels.iolib.summary.Summary'>\n",
       "\"\"\"\n",
       "                             ARIMA Model Results                              \n",
       "==============================================================================\n",
       "Dep. Variable:               D.launch   No. Observations:                   62\n",
       "Model:                 ARIMA(1, 1, 1)   Log Likelihood                -221.163\n",
       "Method:                       css-mle   S.D. of innovations              8.383\n",
       "Date:                Fri, 28 Aug 2020   AIC                            450.325\n",
       "Time:                        14:59:09   BIC                            458.834\n",
       "Sample:                             1   HQIC                           453.666\n",
       "                                                                              \n",
       "==================================================================================\n",
       "                     coef    std err          z      P>|z|      [0.025      0.975]\n",
       "----------------------------------------------------------------------------------\n",
       "const              0.0673      0.145      0.463      0.643      -0.218       0.352\n",
       "ar.L1.D.launch     0.6248      0.108      5.768      0.000       0.412       0.837\n",
       "ma.L1.D.launch    -1.0000      0.047    -21.317      0.000      -1.092      -0.908\n",
       "                                    Roots                                    \n",
       "=============================================================================\n",
       "                  Real          Imaginary           Modulus         Frequency\n",
       "-----------------------------------------------------------------------------\n",
       "AR.1            1.6006           +0.0000j            1.6006            0.0000\n",
       "MA.1            1.0000           +0.0000j            1.0000            0.0000\n",
       "-----------------------------------------------------------------------------\n",
       "\"\"\""
      ]
     },
     "execution_count": 34,
     "metadata": {},
     "output_type": "execute_result"
    }
   ],
   "source": [
    "USA_data_df = launch_Country[launch_Country[\"country\"] == \"USA\"][launch_Country[\"year\"] < 2020]\n",
    "model = ARIMA(USA_data_df[\"launch\"], order=(1,1,1))\n",
    "#Các xác định p,d,q tương tự như câu dự đoán Trung Quốc\n",
    "model_fit = model.fit(disp=0)\n",
    "model_fit.summary()"
   ]
  },
  {
   "cell_type": "code",
   "execution_count": 35,
   "metadata": {
    "ExecuteTime": {
     "end_time": "2020-08-28T07:59:09.662250Z",
     "start_time": "2020-08-28T07:59:09.556531Z"
    }
   },
   "outputs": [
    {
     "data": {
      "image/png": "[encoded data removed]",
      "text/plain": [
       "<Figure size 432x288 with 1 Axes>"
      ]
     },
     "metadata": {
      "needs_background": "light"
     },
     "output_type": "display_data"
    }
   ],
   "source": [
    "model_fit.plot_predict(dynamic=False)\n",
    "plt.show()"
   ]
  },
  {
   "cell_type": "code",
   "execution_count": 36,
   "metadata": {
    "ExecuteTime": {
     "end_time": "2020-08-28T07:59:09.825813Z",
     "start_time": "2020-08-28T07:59:09.663247Z"
    }
   },
   "outputs": [
    {
     "data": {
      "text/plain": [
       "Text(0.5, 1.0, 'Dự báo số nhiệm vụ phóng cho Hoa Kỳ trong 5 năm tới')"
      ]
     },
     "execution_count": 36,
     "metadata": {},
     "output_type": "execute_result"
    },
    {
     "data": {
      "image/png": "[encoded data removed]",
      "text/plain": [
       "<Figure size 432x288 with 1 Axes>"
      ]
     },
     "metadata": {
      "needs_background": "light"
     },
     "output_type": "display_data"
    }
   ],
   "source": [
    "preds, _, _ = model_fit.forecast(6, alpha=0.05)\n",
    "preds = preds.tolist()\n",
    "preds = [int(item) for item in preds]\n",
    "years = ['2020', '2021', '2022', '2023', '2024', '2025']\n",
    "\n",
    "new_df = pd.DataFrame()\n",
    "new_df['year'] = years\n",
    "new_df[\"launch\"] = preds\n",
    "USA_data = USA_data_df[[\"year\",\"launch\"]]\n",
    "USA_data = pd.concat([USA_data, new_df])\n",
    "plt.plot(USA_data[\"year\"], USA_data[\"launch\"])\n",
    "plt.title(\"Dự báo số nhiệm vụ phóng cho Hoa Kỳ trong 5 năm tới\")"
   ]
  },
  {
   "cell_type": "markdown",
   "metadata": {},
   "source": [
    "### Dự báo cho sự phát triển của Nga"
   ]
  },
  {
   "cell_type": "code",
   "execution_count": 37,
   "metadata": {
    "ExecuteTime": {
     "end_time": "2020-08-28T07:59:09.834789Z",
     "start_time": "2020-08-28T07:59:09.826833Z"
    }
   },
   "outputs": [
    {
     "name": "stderr",
     "output_type": "stream",
     "text": [
      "C:\\Users\\Admin\\anaconda3\\lib\\site-packages\\ipykernel_launcher.py:2: UserWarning:\n",
      "\n",
      "Boolean Series key will be reindexed to match DataFrame index.\n",
      "\n",
      "C:\\Users\\Admin\\anaconda3\\lib\\site-packages\\ipykernel_launcher.py:3: UserWarning:\n",
      "\n",
      "Boolean Series key will be reindexed to match DataFrame index.\n",
      "\n"
     ]
    }
   ],
   "source": [
    "#Ta thực hiện gộp dữ liệu của Nga và Liên Xô lại\n",
    "Russia_data_df = launch_Country[launch_Country[\"country\"] == \"Russia\"][launch_Country[\"year\"] < 2020].append(\n",
    "launch_Country[launch_Country[\"country\"] == \"USSR\"][launch_Country[\"year\"] < 2020])"
   ]
  },
  {
   "cell_type": "code",
   "execution_count": 38,
   "metadata": {
    "ExecuteTime": {
     "end_time": "2020-08-28T07:59:09.872687Z",
     "start_time": "2020-08-28T07:59:09.835784Z"
    }
   },
   "outputs": [
    {
     "data": {
      "text/html": [
       "<table class=\"simpletable\">\n",
       "<caption>ARMA Model Results</caption>\n",
       "<tr>\n",
       "  <th>Dep. Variable:</th>      <td>launch</td>      <th>  No. Observations:  </th>    <td>63</td>   \n",
       "</tr>\n",
       "<tr>\n",
       "  <th>Model:</th>            <td>ARMA(1, 0)</td>    <th>  Log Likelihood     </th> <td>-225.702</td>\n",
       "</tr>\n",
       "<tr>\n",
       "  <th>Method:</th>             <td>css-mle</td>     <th>  S.D. of innovations</th>   <td>8.542</td> \n",
       "</tr>\n",
       "<tr>\n",
       "  <th>Date:</th>          <td>Fri, 28 Aug 2020</td> <th>  AIC                </th>  <td>457.403</td>\n",
       "</tr>\n",
       "<tr>\n",
       "  <th>Time:</th>              <td>14:59:09</td>     <th>  BIC                </th>  <td>463.833</td>\n",
       "</tr>\n",
       "<tr>\n",
       "  <th>Sample:</th>                <td>0</td>        <th>  HQIC               </th>  <td>459.932</td>\n",
       "</tr>\n",
       "<tr>\n",
       "  <th></th>                       <td> </td>        <th>                     </th>     <td> </td>   \n",
       "</tr>\n",
       "</table>\n",
       "<table class=\"simpletable\">\n",
       "<tr>\n",
       "        <td></td>          <th>coef</th>     <th>std err</th>      <th>z</th>      <th>P>|z|</th>  <th>[0.025</th>    <th>0.975]</th>  \n",
       "</tr>\n",
       "<tr>\n",
       "  <th>const</th>        <td>   25.0972</td> <td>   17.639</td> <td>    1.423</td> <td> 0.155</td> <td>   -9.475</td> <td>   59.669</td>\n",
       "</tr>\n",
       "<tr>\n",
       "  <th>ar.L1.launch</th> <td>    0.9511</td> <td>    0.032</td> <td>   29.271</td> <td> 0.000</td> <td>    0.887</td> <td>    1.015</td>\n",
       "</tr>\n",
       "</table>\n",
       "<table class=\"simpletable\">\n",
       "<caption>Roots</caption>\n",
       "<tr>\n",
       "    <td></td>   <th>            Real</th>  <th>         Imaginary</th> <th>         Modulus</th>  <th>        Frequency</th>\n",
       "</tr>\n",
       "<tr>\n",
       "  <th>AR.1</th> <td>           1.0515</td> <td>          +0.0000j</td> <td>           1.0515</td> <td>           0.0000</td>\n",
       "</tr>\n",
       "</table>"
      ],
      "text/plain": [
       "<class 'statsmodels.iolib.summary.Summary'>\n",
       "\"\"\"\n",
       "                              ARMA Model Results                              \n",
       "==============================================================================\n",
       "Dep. Variable:                 launch   No. Observations:                   63\n",
       "Model:                     ARMA(1, 0)   Log Likelihood                -225.702\n",
       "Method:                       css-mle   S.D. of innovations              8.542\n",
       "Date:                Fri, 28 Aug 2020   AIC                            457.403\n",
       "Time:                        14:59:09   BIC                            463.833\n",
       "Sample:                             0   HQIC                           459.932\n",
       "                                                                              \n",
       "================================================================================\n",
       "                   coef    std err          z      P>|z|      [0.025      0.975]\n",
       "--------------------------------------------------------------------------------\n",
       "const           25.0972     17.639      1.423      0.155      -9.475      59.669\n",
       "ar.L1.launch     0.9511      0.032     29.271      0.000       0.887       1.015\n",
       "                                    Roots                                    \n",
       "=============================================================================\n",
       "                  Real          Imaginary           Modulus         Frequency\n",
       "-----------------------------------------------------------------------------\n",
       "AR.1            1.0515           +0.0000j            1.0515            0.0000\n",
       "-----------------------------------------------------------------------------\n",
       "\"\"\""
      ]
     },
     "execution_count": 38,
     "metadata": {},
     "output_type": "execute_result"
    }
   ],
   "source": [
    "Russia_data_df = Russia_data_df.sort_values(\"year\").reset_index()[[\"year\",\"launch\"]]\n",
    "model = ARIMA(Russia_data_df[\"launch\"], order=(1,0,0))\n",
    "#Các xác định p,d,q tương tự như câu dự đoán Trung Quốc\n",
    "model_fit = model.fit(disp=0)\n",
    "model_fit.summary()\n",
    "# # plt.plot(Russia_data_df[\"year\"],Russia_data_df[\"Status Mission\"])"
   ]
  },
  {
   "cell_type": "code",
   "execution_count": 39,
   "metadata": {
    "ExecuteTime": {
     "end_time": "2020-08-28T07:59:09.983390Z",
     "start_time": "2020-08-28T07:59:09.873686Z"
    }
   },
   "outputs": [
    {
     "data": {
      "image/png": "[encoded data removed]",
      "text/plain": [
       "<Figure size 432x288 with 1 Axes>"
      ]
     },
     "metadata": {
      "needs_background": "light"
     },
     "output_type": "display_data"
    }
   ],
   "source": [
    "model_fit.plot_predict(dynamic=False)\n",
    "plt.show()"
   ]
  },
  {
   "cell_type": "code",
   "execution_count": 40,
   "metadata": {
    "ExecuteTime": {
     "end_time": "2020-08-28T07:59:10.092099Z",
     "start_time": "2020-08-28T07:59:09.984389Z"
    }
   },
   "outputs": [
    {
     "data": {
      "text/plain": [
       "Text(0.5, 1.0, 'Dự báo số nhiệm vụ phóng cho Nga trong 5 năm tới')"
      ]
     },
     "execution_count": 40,
     "metadata": {},
     "output_type": "execute_result"
    },
    {
     "data": {
      "image/png": "[encoded data removed]",
      "text/plain": [
       "<Figure size 432x288 with 1 Axes>"
      ]
     },
     "metadata": {
      "needs_background": "light"
     },
     "output_type": "display_data"
    }
   ],
   "source": [
    "preds, _, _ = model_fit.forecast(6, alpha=0.05)\n",
    "preds = preds.tolist()\n",
    "preds = [int(item) for item in preds]\n",
    "years = ['2020', '2021', '2022', '2023', '2024', '2025']\n",
    "\n",
    "new_df = pd.DataFrame()\n",
    "new_df['year'] = years\n",
    "new_df[\"launch\"] = preds\n",
    "Russia_data = Russia_data_df[[\"year\",\"launch\"]]\n",
    "Russia_data = pd.concat([Russia_data, new_df])\n",
    "plt.plot(Russia_data[\"year\"], Russia_data[\"launch\"])\n",
    "plt.title(\"Dự báo số nhiệm vụ phóng cho Nga trong 5 năm tới\")"
   ]
  },
  {
   "cell_type": "markdown",
   "metadata": {},
   "source": [
    "### Dự báo cho sự phát triển của ngành hàng không vũ trụ của 3 cường quốc theo số nhiệm vụ phóng sẽ thực hiện trong 5 năm tới"
   ]
  },
  {
   "cell_type": "code",
   "execution_count": 41,
   "metadata": {
    "ExecuteTime": {
     "end_time": "2020-08-28T07:59:10.215769Z",
     "start_time": "2020-08-28T07:59:10.093110Z"
    }
   },
   "outputs": [
    {
     "data": {
      "text/plain": [
       "<matplotlib.legend.Legend at 0x1d1cb90dd48>"
      ]
     },
     "execution_count": 41,
     "metadata": {},
     "output_type": "execute_result"
    },
    {
     "data": {
      "image/png": "[encoded data removed]",
      "text/plain": [
       "<Figure size 432x288 with 1 Axes>"
      ]
     },
     "metadata": {
      "needs_background": "light"
     },
     "output_type": "display_data"
    }
   ],
   "source": [
    "plt.plot(China_data[\"year\"], China_data[\"launch\"],label = \"China\")\n",
    "plt.plot(USA_data[\"year\"], USA_data[\"launch\"],label = \"USA\")\n",
    "plt.plot(Russia_data[\"year\"], Russia_data[\"launch\"],label = \"Russia\")\n",
    "plt.title(\"Dự báo số nhiệm vụ phóng 3 cường quốc trong 5 năm tới\")\n",
    "plt.legend()"
   ]
  },
  {
   "cell_type": "markdown",
   "metadata": {},
   "source": [
    "Theo như mô hình của mình dự báo có vẻ trong 5 năm tới, Trung Quốc sẽ vượt xa trong cuộc đua này còn Nga và Mỹ thì có vẻ lại dậm chân tại chỗ. Một điều chắc chắn rằng Nga và Mỹ nên cố gắng có những phát triển và tiến bộ hơn nữa nếu không muốn bị Trung Quốc bỏ xa trong cuộc đua này"
   ]
  },
  {
   "cell_type": "code",
   "execution_count": null,
   "metadata": {},
   "outputs": [],
   "source": []
  }
 ],
 "metadata": {
  "kernelspec": {
   "display_name": "Python 3",
   "language": "python",
   "name": "python3"
  },
  "language_info": {
   "codemirror_mode": {
    "name": "ipython",
    "version": 3
   },
   "file_extension": ".py",
   "mimetype": "text/x-python",
   "name": "python",
   "nbconvert_exporter": "python",
   "pygments_lexer": "ipython3",
   "version": "3.7.6"
  },
  "toc": {
   "base_numbering": 1,
   "nav_menu": {
    "height": "12px",
    "width": "166px"
   },
   "number_sections": true,
   "sideBar": true,
   "skip_h1_title": false,
   "title_cell": "Table of Contents",
   "title_sidebar": "Contents",
   "toc_cell": false,
   "toc_position": {
    "height": "46.9965px",
    "left": "1358.65px",
    "top": "110.052px",
    "width": "281.125px"
   },
   "toc_section_display": true,
   "toc_window_display": true
  },
  "varInspector": {
   "cols": {
    "lenName": 16,
    "lenType": 16,
    "lenVar": 40
   },
   "kernels_config": {
    "python": {
     "delete_cmd_postfix": "",
     "delete_cmd_prefix": "del ",
     "library": "var_list.py",
     "varRefreshCmd": "print(var_dic_list())"
    },
    "r": {
     "delete_cmd_postfix": ") ",
     "delete_cmd_prefix": "rm(",
     "library": "var_list.r",
     "varRefreshCmd": "cat(var_dic_list()) "
    }
   },
   "oldHeight": 281.99678,
   "position": {
    "height": "40px",
    "left": "1209.01px",
    "right": "20px",
    "top": "120px",
    "width": "288.767px"
   },
   "types_to_exclude": [
    "module",
    "function",
    "builtin_function_or_method",
    "instance",
    "_Feature"
   ],
   "varInspector_section_display": "none",
   "window_display": false
  }
 },
 "nbformat": 4,
 "nbformat_minor": 4
}
