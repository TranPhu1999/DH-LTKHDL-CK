{
 "cells": [
  {
   "cell_type": "markdown",
   "metadata": {},
   "source": [
    "# Import libraries"
   ]
  },
  {
   "cell_type": "code",
   "execution_count": 23,
   "metadata": {
    "ExecuteTime": {
     "end_time": "2020-08-21T07:33:37.781982Z",
     "start_time": "2020-08-21T07:33:37.776995Z"
    }
   },
   "outputs": [],
   "source": [
    "import pandas as pd\n",
    "import matplotlib.pyplot as plt\n",
    "import seaborn as sns\n",
    "import numpy as np\n"
   ]
  },
  {
   "cell_type": "markdown",
   "metadata": {},
   "source": [
    "# Import file"
   ]
  },
  {
   "cell_type": "code",
   "execution_count": 24,
   "metadata": {
    "ExecuteTime": {
     "end_time": "2020-08-21T07:33:37.809938Z",
     "start_time": "2020-08-21T07:33:37.784974Z"
    }
   },
   "outputs": [
    {
     "data": {
      "text/plain": [
       "Unnamed: 0         int64\n",
       "Unnamed: 0.1       int64\n",
       "Company Name      object\n",
       "Location          object\n",
       "Datum             object\n",
       "Detail            object\n",
       "Status Rocket     object\n",
       " Rocket           object\n",
       "Status Mission    object\n",
       "dtype: object"
      ]
     },
     "execution_count": 24,
     "metadata": {},
     "output_type": "execute_result"
    }
   ],
   "source": [
    "spaceLaunch_df = pd.read_csv(\"Space_Corrected.csv\")\n",
    "spaceLaunch_df.dtypes"
   ]
  },
  {
   "cell_type": "markdown",
   "metadata": {},
   "source": [
    "# Data Preprocessing"
   ]
  },
  {
   "cell_type": "code",
   "execution_count": 25,
   "metadata": {
    "ExecuteTime": {
     "end_time": "2020-08-21T07:33:40.505013Z",
     "start_time": "2020-08-21T07:33:39.095618Z"
    }
   },
   "outputs": [
    {
     "data": {
      "text/html": [
       "<div>\n",
       "<style scoped>\n",
       "    .dataframe tbody tr th:only-of-type {\n",
       "        vertical-align: middle;\n",
       "    }\n",
       "\n",
       "    .dataframe tbody tr th {\n",
       "        vertical-align: top;\n",
       "    }\n",
       "\n",
       "    .dataframe thead th {\n",
       "        text-align: right;\n",
       "    }\n",
       "</style>\n",
       "<table border=\"1\" class=\"dataframe\">\n",
       "  <thead>\n",
       "    <tr style=\"text-align: right;\">\n",
       "      <th></th>\n",
       "      <th>Company Name</th>\n",
       "      <th>Location</th>\n",
       "      <th>Datum</th>\n",
       "      <th>Detail</th>\n",
       "      <th>Status Rocket</th>\n",
       "      <th>Rocket</th>\n",
       "      <th>Status Mission</th>\n",
       "      <th>Year</th>\n",
       "    </tr>\n",
       "  </thead>\n",
       "  <tbody>\n",
       "    <tr>\n",
       "      <th>0</th>\n",
       "      <td>SpaceX</td>\n",
       "      <td>LC-39A, Kennedy Space Center, Florida, USA</td>\n",
       "      <td>2020-08-07 05:12:00+00:00</td>\n",
       "      <td>Falcon 9 Block 5 | Starlink V1 L9 &amp; BlackSky</td>\n",
       "      <td>StatusActive</td>\n",
       "      <td>50.00</td>\n",
       "      <td>Success</td>\n",
       "      <td>2020</td>\n",
       "    </tr>\n",
       "    <tr>\n",
       "      <th>1</th>\n",
       "      <td>CASC</td>\n",
       "      <td>Site 9401 (SLS-2), Jiuquan Satellite Launch Ce...</td>\n",
       "      <td>2020-08-06 04:01:00+00:00</td>\n",
       "      <td>Long March 2D | Gaofen-9 04 &amp; Q-SAT</td>\n",
       "      <td>StatusActive</td>\n",
       "      <td>29.75</td>\n",
       "      <td>Success</td>\n",
       "      <td>2020</td>\n",
       "    </tr>\n",
       "    <tr>\n",
       "      <th>2</th>\n",
       "      <td>SpaceX</td>\n",
       "      <td>Pad A, Boca Chica, Texas, USA</td>\n",
       "      <td>2020-08-04 23:57:00+00:00</td>\n",
       "      <td>Starship Prototype | 150 Meter Hop</td>\n",
       "      <td>StatusActive</td>\n",
       "      <td>NaN</td>\n",
       "      <td>Success</td>\n",
       "      <td>2020</td>\n",
       "    </tr>\n",
       "    <tr>\n",
       "      <th>3</th>\n",
       "      <td>Roscosmos</td>\n",
       "      <td>Site 200/39, Baikonur Cosmodrome, Kazakhstan</td>\n",
       "      <td>2020-07-30 21:25:00+00:00</td>\n",
       "      <td>Proton-M/Briz-M | Ekspress-80 &amp; Ekspress-103</td>\n",
       "      <td>StatusActive</td>\n",
       "      <td>65.00</td>\n",
       "      <td>Success</td>\n",
       "      <td>2020</td>\n",
       "    </tr>\n",
       "    <tr>\n",
       "      <th>4</th>\n",
       "      <td>ULA</td>\n",
       "      <td>SLC-41, Cape Canaveral AFS, Florida, USA</td>\n",
       "      <td>2020-07-30 11:50:00+00:00</td>\n",
       "      <td>Atlas V 541 | Perseverance</td>\n",
       "      <td>StatusActive</td>\n",
       "      <td>145.00</td>\n",
       "      <td>Success</td>\n",
       "      <td>2020</td>\n",
       "    </tr>\n",
       "    <tr>\n",
       "      <th>...</th>\n",
       "      <td>...</td>\n",
       "      <td>...</td>\n",
       "      <td>...</td>\n",
       "      <td>...</td>\n",
       "      <td>...</td>\n",
       "      <td>...</td>\n",
       "      <td>...</td>\n",
       "      <td>...</td>\n",
       "    </tr>\n",
       "    <tr>\n",
       "      <th>4319</th>\n",
       "      <td>US Navy</td>\n",
       "      <td>LC-18A, Cape Canaveral AFS, Florida, USA</td>\n",
       "      <td>1958-02-05 07:33:00+00:00</td>\n",
       "      <td>Vanguard | Vanguard TV3BU</td>\n",
       "      <td>StatusRetired</td>\n",
       "      <td>NaN</td>\n",
       "      <td>Failure</td>\n",
       "      <td>1958</td>\n",
       "    </tr>\n",
       "    <tr>\n",
       "      <th>4320</th>\n",
       "      <td>AMBA</td>\n",
       "      <td>LC-26A, Cape Canaveral AFS, Florida, USA</td>\n",
       "      <td>1958-02-01 03:48:00+00:00</td>\n",
       "      <td>Juno I | Explorer 1</td>\n",
       "      <td>StatusRetired</td>\n",
       "      <td>NaN</td>\n",
       "      <td>Success</td>\n",
       "      <td>1958</td>\n",
       "    </tr>\n",
       "    <tr>\n",
       "      <th>4321</th>\n",
       "      <td>US Navy</td>\n",
       "      <td>LC-18A, Cape Canaveral AFS, Florida, USA</td>\n",
       "      <td>1957-12-06 16:44:00+00:00</td>\n",
       "      <td>Vanguard | Vanguard TV3</td>\n",
       "      <td>StatusRetired</td>\n",
       "      <td>NaN</td>\n",
       "      <td>Failure</td>\n",
       "      <td>1957</td>\n",
       "    </tr>\n",
       "    <tr>\n",
       "      <th>4322</th>\n",
       "      <td>RVSN USSR</td>\n",
       "      <td>Site 1/5, Baikonur Cosmodrome, Kazakhstan</td>\n",
       "      <td>1957-11-03 02:30:00+00:00</td>\n",
       "      <td>Sputnik 8K71PS | Sputnik-2</td>\n",
       "      <td>StatusRetired</td>\n",
       "      <td>NaN</td>\n",
       "      <td>Success</td>\n",
       "      <td>1957</td>\n",
       "    </tr>\n",
       "    <tr>\n",
       "      <th>4323</th>\n",
       "      <td>RVSN USSR</td>\n",
       "      <td>Site 1/5, Baikonur Cosmodrome, Kazakhstan</td>\n",
       "      <td>1957-10-04 19:28:00+00:00</td>\n",
       "      <td>Sputnik 8K71PS | Sputnik-1</td>\n",
       "      <td>StatusRetired</td>\n",
       "      <td>NaN</td>\n",
       "      <td>Success</td>\n",
       "      <td>1957</td>\n",
       "    </tr>\n",
       "  </tbody>\n",
       "</table>\n",
       "<p>4324 rows × 8 columns</p>\n",
       "</div>"
      ],
      "text/plain": [
       "     Company Name                                           Location  \\\n",
       "0          SpaceX         LC-39A, Kennedy Space Center, Florida, USA   \n",
       "1            CASC  Site 9401 (SLS-2), Jiuquan Satellite Launch Ce...   \n",
       "2          SpaceX                      Pad A, Boca Chica, Texas, USA   \n",
       "3       Roscosmos       Site 200/39, Baikonur Cosmodrome, Kazakhstan   \n",
       "4             ULA           SLC-41, Cape Canaveral AFS, Florida, USA   \n",
       "...           ...                                                ...   \n",
       "4319      US Navy           LC-18A, Cape Canaveral AFS, Florida, USA   \n",
       "4320         AMBA           LC-26A, Cape Canaveral AFS, Florida, USA   \n",
       "4321      US Navy           LC-18A, Cape Canaveral AFS, Florida, USA   \n",
       "4322    RVSN USSR          Site 1/5, Baikonur Cosmodrome, Kazakhstan   \n",
       "4323    RVSN USSR          Site 1/5, Baikonur Cosmodrome, Kazakhstan   \n",
       "\n",
       "                          Datum                                        Detail  \\\n",
       "0     2020-08-07 05:12:00+00:00  Falcon 9 Block 5 | Starlink V1 L9 & BlackSky   \n",
       "1     2020-08-06 04:01:00+00:00           Long March 2D | Gaofen-9 04 & Q-SAT   \n",
       "2     2020-08-04 23:57:00+00:00            Starship Prototype | 150 Meter Hop   \n",
       "3     2020-07-30 21:25:00+00:00  Proton-M/Briz-M | Ekspress-80 & Ekspress-103   \n",
       "4     2020-07-30 11:50:00+00:00                    Atlas V 541 | Perseverance   \n",
       "...                         ...                                           ...   \n",
       "4319  1958-02-05 07:33:00+00:00                     Vanguard | Vanguard TV3BU   \n",
       "4320  1958-02-01 03:48:00+00:00                           Juno I | Explorer 1   \n",
       "4321  1957-12-06 16:44:00+00:00                       Vanguard | Vanguard TV3   \n",
       "4322  1957-11-03 02:30:00+00:00                    Sputnik 8K71PS | Sputnik-2   \n",
       "4323  1957-10-04 19:28:00+00:00                    Sputnik 8K71PS | Sputnik-1   \n",
       "\n",
       "      Status Rocket  Rocket Status Mission  Year  \n",
       "0      StatusActive   50.00        Success  2020  \n",
       "1      StatusActive   29.75        Success  2020  \n",
       "2      StatusActive     NaN        Success  2020  \n",
       "3      StatusActive   65.00        Success  2020  \n",
       "4      StatusActive  145.00        Success  2020  \n",
       "...             ...     ...            ...   ...  \n",
       "4319  StatusRetired     NaN        Failure  1958  \n",
       "4320  StatusRetired     NaN        Success  1958  \n",
       "4321  StatusRetired     NaN        Failure  1957  \n",
       "4322  StatusRetired     NaN        Success  1957  \n",
       "4323  StatusRetired     NaN        Success  1957  \n",
       "\n",
       "[4324 rows x 8 columns]"
      ]
     },
     "execution_count": 25,
     "metadata": {},
     "output_type": "execute_result"
    }
   ],
   "source": [
    "#Bỏ đi 2 cột Unnamed: 0 và Unnamed: 0.1 vì không cần thiết\n",
    "del spaceLaunch_df[\"Unnamed: 0\"]\n",
    "del spaceLaunch_df[\"Unnamed: 0.1\"]\n",
    "\n",
    "#Convert cột rocket sang kiểu Float\n",
    "spaceLaunch_df[\" Rocket\"] = spaceLaunch_df[\" Rocket\"].astype(str)\n",
    "for i in range(len(spaceLaunch_df[\" Rocket\"])):\n",
    "    spaceLaunch_df[\" Rocket\"][i] = spaceLaunch_df[\" Rocket\"][i].strip(\", \")\n",
    "    spaceLaunch_df[\" Rocket\"][i] = spaceLaunch_df[\" Rocket\"][i].replace(\",\",\"\")\n",
    "spaceLaunch_df[\" Rocket\"] = spaceLaunch_df[\" Rocket\"].astype(float)\n",
    "\n",
    "#Tên cột Rocket bị dư một dấu cách phía trước, không để ý có thể gây lỗi nên cần được bỏ dấu cách đi\n",
    "spaceLaunch_df = spaceLaunch_df.rename(columns= {\" Rocket\" : \"Rocket\"})\n",
    "\n",
    "#Cột Datum là kiểu dữ liệu object cần được chuyển sang dạng datetime\n",
    "spaceLaunch_df[\"Datum\"] = pd.to_datetime(spaceLaunch_df[\"Datum\"])\n",
    "\n",
    "#Tạo thêm cột year\n",
    "spaceLaunch_df[\"Year\"] = spaceLaunch_df[\"Datum\"].apply(lambda datetime: datetime.year)\n",
    "\n",
    "spaceLaunch_df"
   ]
  },
  {
   "cell_type": "markdown",
   "metadata": {},
   "source": [
    "# Analysis"
   ]
  },
  {
   "cell_type": "markdown",
   "metadata": {},
   "source": [
    "## Question 1"
   ]
  },
  {
   "cell_type": "code",
   "execution_count": 96,
   "metadata": {
    "ExecuteTime": {
     "end_time": "2020-08-21T10:00:37.137138Z",
     "start_time": "2020-08-21T10:00:37.098638Z"
    }
   },
   "outputs": [
    {
     "data": {
      "text/html": [
       "<div>\n",
       "<style scoped>\n",
       "    .dataframe tbody tr th:only-of-type {\n",
       "        vertical-align: middle;\n",
       "    }\n",
       "\n",
       "    .dataframe tbody tr th {\n",
       "        vertical-align: top;\n",
       "    }\n",
       "\n",
       "    .dataframe thead th {\n",
       "        text-align: right;\n",
       "    }\n",
       "</style>\n",
       "<table border=\"1\" class=\"dataframe\">\n",
       "  <thead>\n",
       "    <tr style=\"text-align: right;\">\n",
       "      <th></th>\n",
       "      <th>Company Name</th>\n",
       "      <th>Success Ratio</th>\n",
       "      <th>Launch</th>\n",
       "      <th>Success</th>\n",
       "    </tr>\n",
       "  </thead>\n",
       "  <tbody>\n",
       "    <tr>\n",
       "      <th>8</th>\n",
       "      <td>Northrop</td>\n",
       "      <td>1.000000</td>\n",
       "      <td>12.0</td>\n",
       "      <td>12.0</td>\n",
       "    </tr>\n",
       "    <tr>\n",
       "      <th>9</th>\n",
       "      <td>Rocket Lab</td>\n",
       "      <td>0.846154</td>\n",
       "      <td>13.0</td>\n",
       "      <td>11.0</td>\n",
       "    </tr>\n",
       "    <tr>\n",
       "      <th>7</th>\n",
       "      <td>MHI</td>\n",
       "      <td>1.000000</td>\n",
       "      <td>14.0</td>\n",
       "      <td>14.0</td>\n",
       "    </tr>\n",
       "    <tr>\n",
       "      <th>13</th>\n",
       "      <td>VKS RF</td>\n",
       "      <td>1.000000</td>\n",
       "      <td>17.0</td>\n",
       "      <td>17.0</td>\n",
       "    </tr>\n",
       "    <tr>\n",
       "      <th>10</th>\n",
       "      <td>Roscosmos</td>\n",
       "      <td>0.956522</td>\n",
       "      <td>23.0</td>\n",
       "      <td>22.0</td>\n",
       "    </tr>\n",
       "    <tr>\n",
       "      <th>5</th>\n",
       "      <td>ISRO</td>\n",
       "      <td>0.958333</td>\n",
       "      <td>24.0</td>\n",
       "      <td>23.0</td>\n",
       "    </tr>\n",
       "    <tr>\n",
       "      <th>12</th>\n",
       "      <td>ULA</td>\n",
       "      <td>1.000000</td>\n",
       "      <td>29.0</td>\n",
       "      <td>29.0</td>\n",
       "    </tr>\n",
       "    <tr>\n",
       "      <th>0</th>\n",
       "      <td>Arianespace</td>\n",
       "      <td>0.939394</td>\n",
       "      <td>33.0</td>\n",
       "      <td>31.0</td>\n",
       "    </tr>\n",
       "    <tr>\n",
       "      <th>11</th>\n",
       "      <td>SpaceX</td>\n",
       "      <td>0.986486</td>\n",
       "      <td>74.0</td>\n",
       "      <td>73.0</td>\n",
       "    </tr>\n",
       "    <tr>\n",
       "      <th>1</th>\n",
       "      <td>CASC</td>\n",
       "      <td>0.945055</td>\n",
       "      <td>91.0</td>\n",
       "      <td>86.0</td>\n",
       "    </tr>\n",
       "  </tbody>\n",
       "</table>\n",
       "</div>"
      ],
      "text/plain": [
       "   Company Name  Success Ratio  Launch  Success\n",
       "8      Northrop       1.000000    12.0     12.0\n",
       "9    Rocket Lab       0.846154    13.0     11.0\n",
       "7           MHI       1.000000    14.0     14.0\n",
       "13       VKS RF       1.000000    17.0     17.0\n",
       "10    Roscosmos       0.956522    23.0     22.0\n",
       "5          ISRO       0.958333    24.0     23.0\n",
       "12          ULA       1.000000    29.0     29.0\n",
       "0   Arianespace       0.939394    33.0     31.0\n",
       "11       SpaceX       0.986486    74.0     73.0\n",
       "1          CASC       0.945055    91.0     86.0"
      ]
     },
     "execution_count": 96,
     "metadata": {},
     "output_type": "execute_result"
    }
   ],
   "source": [
    "space_company_5_df = spaceLaunch_df[spaceLaunch_df[\"Year\"] > 2015]\n",
    "space_company_5_df = space_company_5_df[~np.isnan(space_company_5_df[\"Rocket\"])]\n",
    "\n",
    "company_success_launch_df = space_company_5_df[space_company_5_df[\"Status Mission\"] == \"Success\"].groupby([\"Year\",\"Company Name\"])[\"Status Mission\"].count().sort_values(ascending = False) \n",
    "company_launch_df = space_company_5_df.groupby(\"Year\",\"Company Name\")[\"Status Mission\"].count().sort_values(ascending = False)\n",
    "\n",
    "company_success_launch_ratio_df = company_success_launch_df.div(company_launch_df).reset_index()\n",
    "company_success_launch_ratio_df = company_success_launch_ratio_df.rename(columns= {\"Status Mission\" : \"Success Ratio\"})\n",
    "company_success_launch_ratio_df = company_success_launch_ratio_df.fillna(0)#.sort_values(by = \"Success Ratio\")\n",
    "company_success_launch_ratio_df[\"Launch\"] = np.zeros(len(company_success_launch_ratio_df[\"Company Name\"]))\n",
    "company_success_launch_ratio_df[\"Success\"] = np.zeros(len(company_success_launch_ratio_df[\"Company Name\"]))\n",
    "\n",
    "for i in range(len(company_success_launch_ratio_df[\"Company Name\"])):\n",
    "    company_success_launch_ratio_df.loc[i,\"Launch\"] = company_launch_df[company_success_launch_ratio_df[\"Company Name\"][i]]\n",
    "    if(company_success_launch_ratio_df[\"Success Ratio\"][i] != 0):\n",
    "        company_success_launch_ratio_df.loc[i,\"Success\"] = company_success_launch_df[company_success_launch_ratio_df[\"Company Name\"][i]]\n",
    "    else:\n",
    "        company_success_launch_ratio_df.loc[i,\"Success\"] = 0\n",
    "company_success_launch_ratio_df.sort_values(by = \"Launch\").tail(10)\n"
   ]
  },
  {
   "cell_type": "code",
   "execution_count": 120,
   "metadata": {
    "ExecuteTime": {
     "end_time": "2020-08-21T10:23:14.264694Z",
     "start_time": "2020-08-21T10:23:14.254754Z"
    }
   },
   "outputs": [],
   "source": [
    "space_company_5_df = spaceLaunch_df[spaceLaunch_df[\"Year\"] > 2015]\n",
    "space_company_5_df = space_company_5_df[~np.isnan(space_company_5_df[\"Rocket\"])]\n",
    "\n",
    "company_success_launch_df = space_company_5_df[space_company_5_df[\"Status Mission\"] == \"Success\"].groupby([\"Year\",\"Company Name\"])[\"Status Mission\"].count()\n",
    "company_launch_df = space_company_5_df.groupby([\"Year\",\"Company Name\"])[\"Status Mission\"].count()"
   ]
  },
  {
   "cell_type": "code",
   "execution_count": 130,
   "metadata": {
    "ExecuteTime": {
     "end_time": "2020-08-21T10:26:58.056104Z",
     "start_time": "2020-08-21T10:26:58.023719Z"
    }
   },
   "outputs": [
    {
     "data": {
      "text/plain": [
       "Company Name\n",
       "Arianespace    1.000000\n",
       "CASC           0.866667\n",
       "Eurockot       1.000000\n",
       "ILS            1.000000\n",
       "ISRO           1.000000\n",
       "MHI            1.000000\n",
       "Northrop       1.000000\n",
       "Roscosmos      1.000000\n",
       "SpaceX         0.888889\n",
       "ULA            1.000000\n",
       "VKS RF         1.000000\n",
       "Name: Status Mission, dtype: float64"
      ]
     },
     "execution_count": 130,
     "metadata": {},
     "output_type": "execute_result"
    }
   ],
   "source": [
    "company_success_launch_df[2016]/company_launch_df[2016]"
   ]
  },
  {
   "cell_type": "markdown",
   "metadata": {},
   "source": [
    "## Question 2"
   ]
  },
  {
   "cell_type": "code",
   "execution_count": null,
   "metadata": {},
   "outputs": [],
   "source": []
  },
  {
   "cell_type": "markdown",
   "metadata": {
    "ExecuteTime": {
     "end_time": "2020-08-25T01:54:15.900185Z",
     "start_time": "2020-08-25T01:54:15.897240Z"
    }
   },
   "source": [
    "## Question 3"
   ]
  },
  {
   "cell_type": "code",
   "execution_count": null,
   "metadata": {},
   "outputs": [],
   "source": []
  }
 ],
 "metadata": {
  "kernelspec": {
   "display_name": "Python 3",
   "language": "python",
   "name": "python3"
  },
  "language_info": {
   "codemirror_mode": {
    "name": "ipython",
    "version": 3
   },
   "file_extension": ".py",
   "mimetype": "text/x-python",
   "name": "python",
   "nbconvert_exporter": "python",
   "pygments_lexer": "ipython3",
   "version": "3.7.6"
  },
  "toc": {
   "base_numbering": 1,
   "nav_menu": {
    "height": "12px",
    "width": "166px"
   },
   "number_sections": true,
   "sideBar": true,
   "skip_h1_title": false,
   "title_cell": "Table of Contents",
   "title_sidebar": "Contents",
   "toc_cell": false,
   "toc_position": {
    "height": "46.9965px",
    "left": "1358.65px",
    "top": "110.052px",
    "width": "159.132px"
   },
   "toc_section_display": true,
   "toc_window_display": true
  },
  "varInspector": {
   "cols": {
    "lenName": 16,
    "lenType": 16,
    "lenVar": 40
   },
   "kernels_config": {
    "python": {
     "delete_cmd_postfix": "",
     "delete_cmd_prefix": "del ",
     "library": "var_list.py",
     "varRefreshCmd": "print(var_dic_list())"
    },
    "r": {
     "delete_cmd_postfix": ") ",
     "delete_cmd_prefix": "rm(",
     "library": "var_list.r",
     "varRefreshCmd": "cat(var_dic_list()) "
    }
   },
   "oldHeight": 281.99678,
   "position": {
    "height": "40px",
    "left": "1209.01px",
    "right": "20px",
    "top": "120px",
    "width": "288.767px"
   },
   "types_to_exclude": [
    "module",
    "function",
    "builtin_function_or_method",
    "instance",
    "_Feature"
   ],
   "varInspector_section_display": "none",
   "window_display": false
  }
 },
 "nbformat": 4,
 "nbformat_minor": 4
}
